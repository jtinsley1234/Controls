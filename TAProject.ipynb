{
 "cells": [
  {
   "cell_type": "code",
   "execution_count": 1,
   "id": "87826da5-090d-4514-aa44-04d12c67e9d9",
   "metadata": {},
   "outputs": [],
   "source": [
    "import matplotlib.pyplot as plt\n",
    "import numpy as np\n",
    "import matplotlib\n",
    "from ipywidgets import interact, interact_manual\n",
    "import control\n",
    "import ipywidgets as widgets\n",
    "%matplotlib inline"
   ]
  },
  {
   "cell_type": "markdown",
   "id": "5f93bdb1-5dbe-4e8f-9324-b531477087d3",
   "metadata": {},
   "source": [
    "<h1>T.A. Controls Project Solution</h1>"
   ]
  },
  {
   "cell_type": "markdown",
   "id": "54557e54-7bf2-4668-85db-ee9ff37d81dd",
   "metadata": {},
   "source": [
    "<h3>Inner Loop Function for Different States</h3>"
   ]
  },
  {
   "cell_type": "code",
   "execution_count": 2,
   "id": "2e7f8b41-e720-4acd-b7fb-f43c21fc3be0",
   "metadata": {},
   "outputs": [],
   "source": [
    "def plane(pcase):\n",
    "    if pcase == 1:\n",
    "           mass = 5.64E5/32.2\n",
    "           Iyy = 3.23E7\n",
    "           Uo = 221\n",
    "           Xu = -3.661E2/mass\n",
    "           Xw = 2.137E3/mass\n",
    "           Xe = 1.680E4/mass\n",
    "           Zu = -3.538E3/mass\n",
    "           Zw = -8.969E3/mass\n",
    "           Ze = -1.125E5/mass\n",
    "           Mu = 3.779E3/Iyy\n",
    "           Mw = -5.717E4/Iyy\n",
    "           Mq = -1.153E7/Iyy\n",
    "           Mwd = -7.946E3/Iyy\n",
    "           Me = -1.221E7/Iyy\n",
    "    \n",
    "    elif pcase == 2:\n",
    "           mass = 6.366e5/32.2\n",
    "           Iyy = 3.31e7\n",
    "           Uo = 518\n",
    "           Xu = -4.883E1/mass\n",
    "           Xw = 1.546E3/mass\n",
    "           Xe = 3.994E4/mass\n",
    "           Zu = -1.342E3/mass\n",
    "           Zw = -8.561E3/mass\n",
    "           Ze = -3.341E5/mass\n",
    "           Mu = 8.176E3/Iyy\n",
    "           Mw = -5.627E4/Iyy\n",
    "           Mq = -1.964E7/Iyy\n",
    "           Mwd = -4.138E3/Iyy\n",
    "           Me = -3.608E7/Iyy\n",
    "    \n",
    "    elif pcase == 3:\n",
    "           mass = 6.366e5/32.2\n",
    "           Iyy = 3.31e7\n",
    "           Uo = 871\n",
    "           Xu = -3.954E2/mass\n",
    "           Xw = 3.144E2/mass\n",
    "           Xe = 1.544E4/mass\n",
    "           Zu = -8.383E2/mass\n",
    "           Zw = -7.928E3/mass\n",
    "           Ze = -3.677E5/mass\n",
    "           Mu = -2.062E3/Iyy\n",
    "           Mw = -6.289E4/Iyy\n",
    "           Mq = -1.327E7/Iyy\n",
    "           Mwd = -5.296E3/Iyy\n",
    "           Me = -4.038E7/Iyy\n",
    "    \n",
    "    elif pcase == 4:\n",
    "           mass = 6.366e5/32.2\n",
    "           Iyy = 3.31e7\n",
    "           Uo = 774\n",
    "           Xu = -1.358E2/mass\n",
    "           Xw = 2.758E2/mass\n",
    "           Xe = -3.717e4/mass\n",
    "           Zu = -1.778E3/mass\n",
    "           Zw = -6.188E3/mass\n",
    "           Ze = -3.551E5/mass\n",
    "           Mu =  3.581E3/Iyy\n",
    "           Mw = -3.515E4/Iyy\n",
    "           Mq = -1.122E7/Iyy\n",
    "           Mwd = -3.826E3/Iyy\n",
    "           Me = -3.839E7/Iyy\n",
    "\n",
    "    g = 32.2\n",
    "    \n",
    "    Mtu = Mu + Mwd*Zu\n",
    "    Mtw = Mw + Mwd*Zw\n",
    "    Mtq = Mq + Mwd*Uo\n",
    "    Mte = Me + Mwd*Ze\n",
    "    \n",
    "    A = np.array([[ Xu,  Xw,   0, -g, 0],\n",
    "                  [ Zu,  Zw,  Uo,  0, 0],\n",
    "                  [Mtu, Mtw, Mtq,  0, 0],\n",
    "                  [  0,   0,   1,  0, 0],\n",
    "                  [  0,  -1,   0, Uo, 0]])\n",
    "    B = np.array([[ Xe],\n",
    "                  [ Ze],\n",
    "                  [Mte],\n",
    "                  [  0],\n",
    "                  [  0]])\n",
    "    \n",
    "    return A, B"
   ]
  },
  {
   "cell_type": "markdown",
   "id": "179f923a-5066-4a7c-a506-19ae23053065",
   "metadata": {},
   "source": [
    "<h3>Inner Loop Constant Tuning</h3>"
   ]
  },
  {
   "cell_type": "code",
   "execution_count": 3,
   "id": "9dc8d02b-8451-46a1-b040-201ba549e956",
   "metadata": {},
   "outputs": [],
   "source": [
    "%matplotlib inline\n",
    "def inner_loop(kq, kT, pcase):\n",
    "    A, B = plane(pcase)\n",
    "    K = np.array([[0.0, 0.0, kq, kT, 0.0]])\n",
    "    Atq = A + np.matmul(B, K)\n",
    "    C = np.array([[0, 0, 0, 0, 1]])\n",
    "    D = np.array([[0]])\n",
    "    ss_sys = control.ss(Atq, B, C, D)\n",
    "    t, x = control.step_response(ss_sys)\n",
    "    plt.plot(t, x)"
   ]
  },
  {
   "cell_type": "code",
   "execution_count": 8,
   "id": "7209f78a-d82c-4648-8ba6-fba4516ae4bf",
   "metadata": {},
   "outputs": [
    {
     "data": {
      "application/vnd.jupyter.widget-view+json": {
       "model_id": "d597308fd1c345ecbf964cab3e624e4f",
       "version_major": 2,
       "version_minor": 0
      },
      "text/plain": [
       "interactive(children=(FloatSlider(value=0.5, description='$k_{q}$', min=-100.0, step=0.001), FloatSlider(value…"
      ]
     },
     "metadata": {},
     "output_type": "display_data"
    },
    {
     "data": {
      "text/plain": [
       "<function __main__.inner_loop(kq, kT, pcase)>"
      ]
     },
     "execution_count": 8,
     "metadata": {},
     "output_type": "execute_result"
    }
   ],
   "source": [
    "interact(inner_loop, \n",
    "         kq = widgets.FloatSlider(min = -100.0, max = 100.0, value = 0.5, step = 0.001, description = '$k_{q}$'),\n",
    "         kT = widgets.FloatSlider(min = -100.0, max = 100.0, value = 1.0, step = 0.1, description = '$k_{\\\\theta}$'),\n",
    "         pcase = widgets.IntSlider(min = 1, max = 4, value = 1, step = 1, description = 'pcase'))"
   ]
  }
 ],
 "metadata": {
  "kernelspec": {
   "display_name": "Python 3 (ipykernel)",
   "language": "python",
   "name": "python3"
  },
  "language_info": {
   "codemirror_mode": {
    "name": "ipython",
    "version": 3
   },
   "file_extension": ".py",
   "mimetype": "text/x-python",
   "name": "python",
   "nbconvert_exporter": "python",
   "pygments_lexer": "ipython3",
   "version": "3.9.7"
  }
 },
 "nbformat": 4,
 "nbformat_minor": 5
}

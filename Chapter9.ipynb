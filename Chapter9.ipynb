{
 "cells": [
  {
   "cell_type": "code",
   "execution_count": 4,
   "metadata": {},
   "outputs": [],
   "source": [
    "import numpy as np\n",
    "import matplotlib.pyplot as plt\n",
    "from IPython.display import Image\n",
    "import sympy as sp\n",
    "import control"
   ]
  },
  {
   "cell_type": "markdown",
   "metadata": {
    "tags": []
   },
   "source": [
    "<h1>Skill Assessments</h1>"
   ]
  },
  {
   "cell_type": "markdown",
   "metadata": {
    "jp-MarkdownHeadingCollapsed": true,
    "tags": []
   },
   "source": [
    "<h3>Skill Assessment 9.1</h3>"
   ]
  },
  {
   "cell_type": "code",
   "execution_count": null,
   "metadata": {},
   "outputs": [],
   "source": [
    "s = control.tf('s')\n",
    "G = 1/(s*(s + 7))\n",
    "H = 1"
   ]
  },
  {
   "cell_type": "code",
   "execution_count": null,
   "metadata": {},
   "outputs": [],
   "source": [
    "OS = 15\n",
    "d = -np.log(OS/100)/np.sqrt(np.pi**2 + (np.log(OS/100))**2)\n",
    "print(f\"Target damping ratio: {d}\")\n",
    "rl = control.root_locus(G*H, grid = True)"
   ]
  },
  {
   "cell_type": "code",
   "execution_count": null,
   "metadata": {},
   "outputs": [],
   "source": [
    "K = 45.85"
   ]
  },
  {
   "cell_type": "code",
   "execution_count": null,
   "metadata": {},
   "outputs": [],
   "source": [
    "T = K*G/(1 + K*G*H)\n",
    "t_u, x_u = control.step_response(T)\n",
    "plt.plot(t_u, x_u, label = 'Uncompensated System')"
   ]
  },
  {
   "cell_type": "code",
   "execution_count": null,
   "metadata": {},
   "outputs": [],
   "source": [
    "Kv_u = K/7\n",
    "print(f\"Ramp Steady State Error, Uncompensated = {1/Kv_u}\")"
   ]
  },
  {
   "cell_type": "code",
   "execution_count": null,
   "metadata": {},
   "outputs": [],
   "source": [
    "Kv_c = 1/((1/Kv_u)*(1/20))\n",
    "rzcpc = Kv_c/Kv_u\n",
    "pc = 0.01 # arbitrarily chosen, close to zero!\n",
    "zc = rzcpc*pc"
   ]
  },
  {
   "cell_type": "code",
   "execution_count": null,
   "metadata": {},
   "outputs": [],
   "source": [
    "Gc = (s + zc)/(s + pc)\n",
    "T = K*Gc*G/(1 + K*Gc*G*H)\n",
    "t_c, x_c = control.step_response(sys = T)\n",
    "plt.plot(t_u, x_u, label = 'Uncompensated System')\n",
    "plt.plot(t_c, x_c, label = 'Compensated System')\n",
    "plt.legend()"
   ]
  },
  {
   "cell_type": "code",
   "execution_count": null,
   "metadata": {},
   "outputs": [],
   "source": [
    "Gc"
   ]
  },
  {
   "cell_type": "code",
   "execution_count": null,
   "metadata": {},
   "outputs": [],
   "source": [
    "print(f\"Ramp Steady State Error, Compensated: {1/Kv_c}\")\n",
    "print(f\"Increase in accuracy: {100*Kv_c/Kv_u}%\")"
   ]
  },
  {
   "cell_type": "markdown",
   "metadata": {
    "jp-MarkdownHeadingCollapsed": true,
    "tags": []
   },
   "source": [
    "<h3>Skill Assessment 9.2</h3>"
   ]
  },
  {
   "cell_type": "code",
   "execution_count": null,
   "metadata": {},
   "outputs": [],
   "source": [
    "s = control.tf('s')\n",
    "G = 1/(s*(s+7))\n",
    "H = 1"
   ]
  },
  {
   "cell_type": "code",
   "execution_count": null,
   "metadata": {},
   "outputs": [],
   "source": [
    "OS = 15\n",
    "d = -np.log(OS/100)/np.sqrt(np.pi**2 + (np.log(OS/100))**2)\n",
    "print(f\"Target damping ratio: {d}\")\n",
    "rl = control.root_locus(G*H, grid = True)"
   ]
  },
  {
   "cell_type": "code",
   "execution_count": null,
   "metadata": {},
   "outputs": [],
   "source": [
    "K, dwn = 45.82, 3.5"
   ]
  },
  {
   "cell_type": "code",
   "execution_count": null,
   "metadata": {},
   "outputs": [],
   "source": [
    "T = K*G/(1 + K*G*H)\n",
    "t_u, x_u = control.step_response(T)\n",
    "plt.plot(t_u, x_u, label = 'Uncompensated System')"
   ]
  },
  {
   "cell_type": "code",
   "execution_count": null,
   "metadata": {},
   "outputs": [],
   "source": [
    "Ts_u = 4/(dwn)\n",
    "print(f\"Uncompensated settling time: {Ts_u}s\")"
   ]
  },
  {
   "cell_type": "code",
   "execution_count": null,
   "metadata": {},
   "outputs": [],
   "source": [
    "Ts_c = Ts_u/3\n",
    "zc = -10"
   ]
  },
  {
   "cell_type": "code",
   "execution_count": null,
   "metadata": {},
   "outputs": [],
   "source": [
    "target_real = -4/Ts_c\n",
    "target_imag = -target_real*np.tan(np.arccos(d))\n",
    "print(f\"Targeted design point: {target_real} + {target_imag}j\")"
   ]
  },
  {
   "cell_type": "code",
   "execution_count": null,
   "metadata": {},
   "outputs": [],
   "source": [
    "poles = control.pole(K*G*H)\n",
    "zeros = control.zero(K*G*H)"
   ]
  },
  {
   "cell_type": "code",
   "execution_count": null,
   "metadata": {},
   "outputs": [],
   "source": [
    "angle = 0\n",
    "\n",
    "# plant poles contribution:\n",
    "angle += -(np.pi - np.arctan(target_imag/(abs(target_real - poles[0].real))))\n",
    "angle += -(np.pi - np.arctan(target_imag/(abs(target_real - poles[1].real))))\n",
    "\n",
    "# compensator zero contribution:\n",
    "angle += (np.pi - np.arctan(target_imag/(abs(target_real - zc))))\n",
    "print(f\"Plant poles and compensator zero angle contribution: {np.rad2deg(angle)}\")"
   ]
  },
  {
   "cell_type": "code",
   "execution_count": null,
   "metadata": {},
   "outputs": [],
   "source": [
    "theta_pc = angle + np.pi\n",
    "print(f\"Compensator pole angle contribution: {np.rad2deg(theta_pc)}\")\n",
    "pc = -target_imag/np.tan(theta_pc) + target_real\n",
    "print(f\"Compensator pole location: {pc}\")"
   ]
  },
  {
   "cell_type": "code",
   "execution_count": null,
   "metadata": {},
   "outputs": [],
   "source": [
    "G_lead = (s - zc)/(s - pc)\n",
    "G_lead"
   ]
  },
  {
   "cell_type": "code",
   "execution_count": null,
   "metadata": {},
   "outputs": [],
   "source": [
    "G_final = G_lead*G\n",
    "rl = control.root_locus(G_final*H, grid = True)"
   ]
  },
  {
   "cell_type": "code",
   "execution_count": null,
   "metadata": {},
   "outputs": [],
   "source": [
    "K_c = 476.1"
   ]
  },
  {
   "cell_type": "code",
   "execution_count": null,
   "metadata": {},
   "outputs": [],
   "source": [
    "T = K_c*G_final/(1 + K_c*G_final*H)\n",
    "t_c, x_c = control.step_response(sys = T)\n",
    "plt.plot(t_u, x_u, label = 'Uncompensated System')\n",
    "plt.plot(t_c, x_c, label = 'Compensated System')\n",
    "plt.legend()"
   ]
  },
  {
   "cell_type": "markdown",
   "metadata": {
    "jp-MarkdownHeadingCollapsed": true,
    "tags": []
   },
   "source": [
    "<h3>Skill Assessment 9.3</h3>"
   ]
  },
  {
   "cell_type": "code",
   "execution_count": null,
   "metadata": {},
   "outputs": [],
   "source": [
    "s = control.tf('s')\n",
    "G = 1/(s*(s+7))\n",
    "H = 1"
   ]
  },
  {
   "cell_type": "code",
   "execution_count": null,
   "metadata": {},
   "outputs": [],
   "source": [
    "OS = 20\n",
    "d = -np.log(OS/100)/np.sqrt(np.pi**2 + (np.log(OS/100))**2)\n",
    "print(f\"Target damping ratio: {d}\")\n",
    "rl = control.root_locus(G*H, grid = True)"
   ]
  },
  {
   "cell_type": "code",
   "execution_count": null,
   "metadata": {},
   "outputs": [],
   "source": [
    "K = 58.95"
   ]
  },
  {
   "cell_type": "code",
   "execution_count": null,
   "metadata": {},
   "outputs": [],
   "source": [
    "dwn = -3.5\n",
    "wd = 6.831\n",
    "Ts_u = -4/dwn\n",
    "print(f\"Uncompensated settling time: {Ts_u}\")\n",
    "T = K*G/(1 + K*G*H)\n",
    "t_u, x_u = control.step_response(sys = T)"
   ]
  },
  {
   "cell_type": "code",
   "execution_count": null,
   "metadata": {},
   "outputs": [],
   "source": [
    "Kv_u = K/7\n",
    "ess_ramp_u = 1/Kv_u\n",
    "print(f\"Uncompensating steady-state error for ramp input: {ess_ramp_u}\")"
   ]
  },
  {
   "cell_type": "code",
   "execution_count": null,
   "metadata": {},
   "outputs": [],
   "source": [
    "Ts_c = Ts_u/2\n",
    "print(f\"Compensated settling time: {Ts_c}\")"
   ]
  },
  {
   "cell_type": "code",
   "execution_count": null,
   "metadata": {},
   "outputs": [],
   "source": [
    "target_real = -4/Ts_c\n",
    "target_imag = -np.tan(np.arccos(d))*target_real\n",
    "print(f\"Targeted design point: {target_real} + {target_imag}j\")"
   ]
  },
  {
   "cell_type": "code",
   "execution_count": null,
   "metadata": {},
   "outputs": [],
   "source": [
    "zc = -3"
   ]
  },
  {
   "cell_type": "code",
   "execution_count": null,
   "metadata": {},
   "outputs": [],
   "source": [
    "poles = control.pole(K*G*H)\n",
    "zeros = control.zero(K*G*H)"
   ]
  },
  {
   "cell_type": "code",
   "execution_count": null,
   "metadata": {},
   "outputs": [],
   "source": [
    "angle = 0\n",
    "\n",
    "# plant poles contribution:\n",
    "angle += -np.pi/2\n",
    "angle += -(np.pi - np.arctan(target_imag/(abs(target_real - poles[1].real))))\n",
    "\n",
    "# compensator zero contribution:\n",
    "angle += (np.pi - np.arctan(target_imag/(abs(target_real - zc))))\n",
    "print(f\"Plant poles and compensator zero angle contribution: {np.rad2deg(angle)}\")"
   ]
  },
  {
   "cell_type": "code",
   "execution_count": null,
   "metadata": {},
   "outputs": [],
   "source": [
    "theta_pc = angle + np.pi\n",
    "print(f\"Compensator pole angle contribution: {np.rad2deg(theta_pc)}\")\n",
    "pc = -target_imag/np.tan(theta_pc) + target_real\n",
    "print(f\"Compensator pole location: {pc}\")"
   ]
  },
  {
   "cell_type": "code",
   "execution_count": null,
   "metadata": {},
   "outputs": [],
   "source": [
    "G_lead = (s - zc)/(s - pc)\n",
    "G_lead"
   ]
  },
  {
   "cell_type": "code",
   "execution_count": null,
   "metadata": {},
   "outputs": [],
   "source": [
    "rl = control.root_locus(G*G_lead*H, grid = True)"
   ]
  },
  {
   "cell_type": "code",
   "execution_count": null,
   "metadata": {},
   "outputs": [],
   "source": [
    "K = 205.4"
   ]
  },
  {
   "cell_type": "code",
   "execution_count": null,
   "metadata": {},
   "outputs": [],
   "source": [
    "G_lead*G*H"
   ]
  },
  {
   "cell_type": "code",
   "execution_count": null,
   "metadata": {},
   "outputs": [],
   "source": [
    "T = K*G*G_lead/(1 + K*G*G_lead*H)\n",
    "t_l, x_l = control.step_response(sys = T)"
   ]
  },
  {
   "cell_type": "code",
   "execution_count": null,
   "metadata": {},
   "outputs": [],
   "source": [
    "Kv_l = K*3/(67.26)\n",
    "ess_ramp_l = 1/Kv_l\n",
    "print(f\"Factor of improvement in steady-state error: {ess_ramp_l/ess_ramp_u}\")"
   ]
  },
  {
   "cell_type": "code",
   "execution_count": null,
   "metadata": {},
   "outputs": [],
   "source": [
    "improvement_lag = 10/(ess_ramp_u/ess_ramp_l)\n",
    "print(f\"Lag compenstor must improve new system steady-state error by: {improvement_lag}\")"
   ]
  },
  {
   "cell_type": "code",
   "execution_count": null,
   "metadata": {},
   "outputs": [],
   "source": [
    "pc = -0.01\n",
    "zc = improvement_lag*pc"
   ]
  },
  {
   "cell_type": "code",
   "execution_count": null,
   "metadata": {},
   "outputs": [],
   "source": [
    "G_lag = (s - zc)/(s - pc)\n",
    "G_lag"
   ]
  },
  {
   "cell_type": "code",
   "execution_count": null,
   "metadata": {},
   "outputs": [],
   "source": [
    "rl = control.root_locus(G*G_lead*G_lag*H, grid = True)"
   ]
  },
  {
   "cell_type": "code",
   "execution_count": null,
   "metadata": {},
   "outputs": [],
   "source": [
    "K = 209.7"
   ]
  },
  {
   "cell_type": "code",
   "execution_count": null,
   "metadata": {},
   "outputs": [],
   "source": [
    "T = K*G*G_lead*G_lag/(1 + K*G*G_lead*G_lag*H)\n",
    "t_ll, x_ll = control.step_response(sys = T)"
   ]
  },
  {
   "cell_type": "code",
   "execution_count": null,
   "metadata": {},
   "outputs": [],
   "source": [
    "plt.plot(t_u, x_u, label = 'Uncompensated System')\n",
    "plt.plot(t_c, x_c, label = 'Compensated, lead System')\n",
    "plt.plot(t_ll, x_ll, label = \"Compensated, lead-lag System\")\n",
    "plt.legend()"
   ]
  },
  {
   "cell_type": "markdown",
   "metadata": {
    "jp-MarkdownHeadingCollapsed": true,
    "tags": []
   },
   "source": [
    "<h3>Skill Assessment 9.4</h3>"
   ]
  },
  {
   "cell_type": "code",
   "execution_count": null,
   "metadata": {},
   "outputs": [],
   "source": [
    "s = control.tf('s')\n",
    "Gi = 1/(s*(s+7)*(s+10))\n",
    "Hi = s\n",
    "di = 0.7\n",
    "print(f\"Inner-loop compensated damping ratio: {di}\")"
   ]
  },
  {
   "cell_type": "code",
   "execution_count": null,
   "metadata": {},
   "outputs": [],
   "source": [
    "T = Gi\n",
    "t_iu, x_iu = control.step_response(sys = T)\n",
    "plt.plot(t_iu, x_iu)"
   ]
  },
  {
   "cell_type": "code",
   "execution_count": null,
   "metadata": {},
   "outputs": [],
   "source": [
    "rl = control.root_locus(Hi*Gi, grid = True)"
   ]
  },
  {
   "cell_type": "code",
   "execution_count": null,
   "metadata": {},
   "outputs": [],
   "source": [
    "Kf = 77.44"
   ]
  },
  {
   "cell_type": "code",
   "execution_count": null,
   "metadata": {},
   "outputs": [],
   "source": [
    "T = Gi/(1 + Kf*Hi*Gi)\n",
    "t_ic, x_ic = control.step_response(sys = T)\n",
    "plt.plot(t_ic, x_ic)"
   ]
  },
  {
   "cell_type": "code",
   "execution_count": null,
   "metadata": {},
   "outputs": [],
   "source": [
    "Go = Gi/(1 + Gi*Kf*Hi)\n",
    "Ho = 1\n",
    "do = 0.5\n",
    "print(f\"Outer-loop compensated damping ratio: {do}\")"
   ]
  },
  {
   "cell_type": "code",
   "execution_count": null,
   "metadata": {},
   "outputs": [],
   "source": [
    "T = Go/(1 + Go*Ho)\n",
    "t_ou, x_ou = control.step_response(sys = T)"
   ]
  },
  {
   "cell_type": "code",
   "execution_count": null,
   "metadata": {},
   "outputs": [],
   "source": [
    "rl = control.root_locus(Ho*Go, grid = True)"
   ]
  },
  {
   "cell_type": "code",
   "execution_count": null,
   "metadata": {},
   "outputs": [],
   "source": [
    "Ko = 626.4"
   ]
  },
  {
   "cell_type": "code",
   "execution_count": null,
   "metadata": {},
   "outputs": [],
   "source": [
    "T = Ko*Go/(1 + Go*Ho)\n",
    "t_oc, x_oc = control.step_response(sys = T)"
   ]
  },
  {
   "cell_type": "code",
   "execution_count": null,
   "metadata": {},
   "outputs": [],
   "source": [
    "plt.figure(1)\n",
    "plt.plot(t_iu, x_iu, label = 'Uncompensated inner loop')\n",
    "plt.plot(t_ic, x_ic, label = 'Compensated inner loop')\n",
    "plt.title('Inner loop behavior')\n",
    "plt.legend()\n",
    "\n",
    "plt.figure(2)\n",
    "plt.plot(t_ou, x_ou, label = 'Uncompensated outer loop')\n",
    "plt.plot(t_oc, x_oc, label = 'Compensated outer loop')\n",
    "plt.title('Outer loop behavior')\n",
    "plt.legend()"
   ]
  },
  {
   "cell_type": "markdown",
   "metadata": {
    "tags": []
   },
   "source": [
    "<h1>Homework 9</h1>"
   ]
  },
  {
   "cell_type": "markdown",
   "metadata": {
    "tags": []
   },
   "source": [
    "<h3>Problem 22</h3>"
   ]
  },
  {
   "cell_type": "markdown",
   "metadata": {
    "jp-MarkdownHeadingCollapsed": true,
    "tags": []
   },
   "source": [
    "<h5>Uncompensated</h5>"
   ]
  },
  {
   "cell_type": "code",
   "execution_count": 5,
   "metadata": {},
   "outputs": [],
   "source": [
    "s = control.tf('s')\n",
    "G = 1/(s*(s+5)*(s+11))\n",
    "H = 1"
   ]
  },
  {
   "cell_type": "code",
   "execution_count": 6,
   "metadata": {},
   "outputs": [],
   "source": [
    "OS_u = 30\n",
    "d_u = -np.log(OS_u/100)/np.sqrt(np.pi**2 + (np.log(OS_u/100))**2)"
   ]
  },
  {
   "cell_type": "code",
   "execution_count": 7,
   "metadata": {},
   "outputs": [
    {
     "name": "stdout",
     "output_type": "stream",
     "text": [
      "Target damping ratio: 0.3578571305033167\n"
     ]
    }
   ],
   "source": [
    "print(f\"Target damping ratio: {d_u}\")\n",
    "rl = control.root_locus(G*H, grid = True)"
   ]
  },
  {
   "cell_type": "code",
   "execution_count": 8,
   "metadata": {},
   "outputs": [
    {
     "name": "stdout",
     "output_type": "stream",
     "text": [
      "Gain, K, for the uncompensated system to operate with 30% overshoot: 218.8\n"
     ]
    }
   ],
   "source": [
    "K = 218.8\n",
    "dom_real, dom_imag = -1.465, 3.82\n",
    "print(f\"Gain, K, for the uncompensated system to operate with 30% overshoot: {K}\")"
   ]
  },
  {
   "cell_type": "code",
   "execution_count": 9,
   "metadata": {},
   "outputs": [
    {
     "name": "stdout",
     "output_type": "stream",
     "text": [
      "Peak time for uncompensated system: 0.8224064538193177s\n",
      "Steady State Error (ramp input) constant, Kv: 3.9781818181818185\n",
      "Steady State Error (ramp input): 0.25137111517367455\n"
     ]
    }
   ],
   "source": [
    "Tp_u = np.pi/dom_imag\n",
    "Kv_u = K/(5*11)\n",
    "print(f\"Peak time for uncompensated system: {Tp_u}s\")\n",
    "print(f\"Steady State Error (ramp input) constant, Kv: {Kv_u}\")\n",
    "print(f\"Steady State Error (ramp input): {1/Kv_u}\")"
   ]
  },
  {
   "cell_type": "code",
   "execution_count": 10,
   "metadata": {},
   "outputs": [
    {
     "data": {
      "text/plain": [
       "[<matplotlib.lines.Line2D at 0x175d03b3c40>]"
      ]
     },
     "execution_count": 10,
     "metadata": {},
     "output_type": "execute_result"
    }
   ],
   "source": [
    "T = K*G/(1 + K*G*H)\n",
    "t_u, x_u = control.step_response(sys = T)\n",
    "plt.plot(t_u, x_u, label = 'Uncompensated System')"
   ]
  },
  {
   "cell_type": "markdown",
   "metadata": {
    "jp-MarkdownHeadingCollapsed": true,
    "tags": []
   },
   "source": [
    "<h5>Lead Compensator (transient response)</h5>"
   ]
  },
  {
   "cell_type": "code",
   "execution_count": 11,
   "metadata": {},
   "outputs": [],
   "source": [
    "Tp_c = Tp_u/2\n",
    "OS_c = OS_u/2\n",
    "d_c = -np.log(OS_c/100)/np.sqrt(np.pi**2 + (np.log(OS_c/100))**2)"
   ]
  },
  {
   "cell_type": "code",
   "execution_count": 12,
   "metadata": {
    "tags": []
   },
   "outputs": [
    {
     "name": "stdout",
     "output_type": "stream",
     "text": [
      "Target dominant pole coordinates: -4.61358243500039 + 7.64i\n"
     ]
    }
   ],
   "source": [
    "target_imag = np.pi/Tp_c\n",
    "target_real = -target_imag/np.tan(np.arccos(d_c))\n",
    "print(f\"Target dominant pole coordinates: {target_real} + {target_imag}i\")"
   ]
  },
  {
   "cell_type": "code",
   "execution_count": 13,
   "metadata": {},
   "outputs": [],
   "source": [
    "poles = control.pole(K*G*H)\n",
    "zeros = control.zero(K*G*H)"
   ]
  },
  {
   "cell_type": "code",
   "execution_count": 14,
   "metadata": {},
   "outputs": [
    {
     "name": "stdout",
     "output_type": "stream",
     "text": [
      "Angle contribution of plant poles and zeros: -258.3382777745947\n"
     ]
    }
   ],
   "source": [
    "angle = 0\n",
    "\n",
    "for pole in poles:\n",
    "    angle += -np.arctan2((target_imag - pole.imag), (target_real - pole.real))\n",
    "          \n",
    "for zero in zeros:\n",
    "    angle += np.arctan2((target_imag - zero.imag), (target_real - zero.real))\n",
    "    \n",
    "print(f\"Angle contribution of plant poles and zeros: {np.rad2deg(angle)}\")"
   ]
  },
  {
   "cell_type": "code",
   "execution_count": 15,
   "metadata": {},
   "outputs": [
    {
     "name": "stdout",
     "output_type": "stream",
     "text": [
      "Necessary angle contribution of compensator pole, zero: 78.33827777459473\n"
     ]
    }
   ],
   "source": [
    "print(f\"Necessary angle contribution of compensator pole, zero: {np.rad2deg(-np.pi - angle)}\")"
   ]
  },
  {
   "cell_type": "code",
   "execution_count": 16,
   "metadata": {},
   "outputs": [
    {
     "name": "stdout",
     "output_type": "stream",
     "text": [
      "Angle contribution of compensator zero: 87.10454905010145\n"
     ]
    }
   ],
   "source": [
    "zc = -5\n",
    "angle_zc = np.arctan2(target_imag, (target_real - zc))\n",
    "print(f\"Angle contribution of compensator zero: {np.rad2deg(angle_zc)}\")"
   ]
  },
  {
   "cell_type": "code",
   "execution_count": 17,
   "metadata": {},
   "outputs": [
    {
     "name": "stdout",
     "output_type": "stream",
     "text": [
      "Angle contribution of compensator pole: 8.766271275506735\n"
     ]
    }
   ],
   "source": [
    "angle_pc = np.pi + angle + angle_zc\n",
    "print(f\"Angle contribution of compensator pole: {np.rad2deg(angle_pc)}\")"
   ]
  },
  {
   "cell_type": "code",
   "execution_count": 18,
   "metadata": {},
   "outputs": [
    {
     "name": "stdout",
     "output_type": "stream",
     "text": [
      "Compensator zero and pole location: -5, -54.15787587445776\n"
     ]
    }
   ],
   "source": [
    "pc = target_real - target_imag/np.tan(angle_pc)\n",
    "print(f\"Compensator zero and pole location: {zc}, {pc}\")"
   ]
  },
  {
   "cell_type": "code",
   "execution_count": 19,
   "metadata": {},
   "outputs": [
    {
     "data": {
      "text/latex": [
       "$$\\frac{s + 5}{s + 54.16}$$"
      ],
      "text/plain": [
       "TransferFunction(array([1, 5]), array([ 1.        , 54.15787587]))"
      ]
     },
     "execution_count": 19,
     "metadata": {},
     "output_type": "execute_result"
    }
   ],
   "source": [
    "G_lead = (s - zc)/(s - pc)\n",
    "G_lead"
   ]
  },
  {
   "cell_type": "code",
   "execution_count": 20,
   "metadata": {},
   "outputs": [
    {
     "name": "stdout",
     "output_type": "stream",
     "text": [
      "Target damping ratio: 0.5169308662051556\n"
     ]
    }
   ],
   "source": [
    "print(f\"Target damping ratio: {d_c}\")\n",
    "rl = control.root_locus(G_lead*G*H, grid = True)"
   ]
  },
  {
   "cell_type": "code",
   "execution_count": 21,
   "metadata": {},
   "outputs": [],
   "source": [
    "K = 4455"
   ]
  },
  {
   "cell_type": "code",
   "execution_count": 22,
   "metadata": {},
   "outputs": [],
   "source": [
    "T = K*G*G_lead/(1 + K*G*G_lead*H)\n",
    "t_c, x_c = control.step_response(sys = T)"
   ]
  },
  {
   "cell_type": "code",
   "execution_count": 23,
   "metadata": {},
   "outputs": [
    {
     "data": {
      "text/plain": [
       "<matplotlib.legend.Legend at 0x175d0e35e20>"
      ]
     },
     "execution_count": 23,
     "metadata": {},
     "output_type": "execute_result"
    }
   ],
   "source": [
    "plt.figure(1)\n",
    "plt.plot(t_u, x_u, label = 'Uncompensated System')\n",
    "plt.plot(t_c, x_c, label = 'Compensated System')\n",
    "plt.legend()"
   ]
  },
  {
   "cell_type": "markdown",
   "metadata": {
    "jp-MarkdownHeadingCollapsed": true,
    "tags": []
   },
   "source": [
    "<h5>Lag Compensator (steady-state response)</h5>"
   ]
  },
  {
   "cell_type": "code",
   "execution_count": 24,
   "metadata": {},
   "outputs": [
    {
     "data": {
      "text/latex": [
       "$$\\frac{4455 s + 2.228 \\times 10^{4}}{s^4 + 70.16 s^3 + 921.5 s^2 + 2979 s}$$"
      ],
      "text/plain": [
       "TransferFunction(array([ 4455., 22275.]), array([1.00000000e+00, 7.01578759e+01, 9.21526014e+02, 2.97868317e+03,\n",
       "       0.00000000e+00]))"
      ]
     },
     "execution_count": 24,
     "metadata": {},
     "output_type": "execute_result"
    }
   ],
   "source": [
    "K*G*G_lead*H"
   ]
  },
  {
   "cell_type": "code",
   "execution_count": 25,
   "metadata": {},
   "outputs": [
    {
     "name": "stdout",
     "output_type": "stream",
     "text": [
      "Lead compensator steady state correction :1.880009548865213\n",
      "New correction for lag compensator: 15.957365758119797\n"
     ]
    }
   ],
   "source": [
    "Kv_c = 22280/2979\n",
    "print(f\"Lead compensator steady state correction :{Kv_c/Kv_u}\")\n",
    "correction = 30/(Kv_c/Kv_u)\n",
    "print(f\"New correction for lag compensator: {correction}\")"
   ]
  },
  {
   "cell_type": "code",
   "execution_count": 26,
   "metadata": {},
   "outputs": [
    {
     "name": "stdout",
     "output_type": "stream",
     "text": [
      "Lag compensator zero and pole: -0.015957365758119797, -0.001\n"
     ]
    },
    {
     "data": {
      "text/latex": [
       "$$\\frac{s - 0.01596}{s - 0.001}$$"
      ],
      "text/plain": [
       "TransferFunction(array([ 1.        , -0.01595737]), array([ 1.   , -0.001]))"
      ]
     },
     "execution_count": 26,
     "metadata": {},
     "output_type": "execute_result"
    }
   ],
   "source": [
    "pc = -0.001\n",
    "zc = correction*pc\n",
    "print(f\"Lag compensator zero and pole: {zc}, {pc}\")\n",
    "G_lag = (s + zc)/(s + pc)\n",
    "G_lag"
   ]
  },
  {
   "cell_type": "code",
   "execution_count": 27,
   "metadata": {},
   "outputs": [
    {
     "name": "stdout",
     "output_type": "stream",
     "text": [
      "Target damping ratio: 0.5169308662051556\n"
     ]
    }
   ],
   "source": [
    "print(f\"Target damping ratio: {d_c}\")\n",
    "rl = control.root_locus(G*G_lead*G_lag*H, grid = True)"
   ]
  },
  {
   "cell_type": "code",
   "execution_count": 28,
   "metadata": {},
   "outputs": [],
   "source": [
    "K = 4459"
   ]
  },
  {
   "cell_type": "code",
   "execution_count": 29,
   "metadata": {},
   "outputs": [],
   "source": [
    "T = K*G*G_lag*G_lead/(1 + K*G*G_lag*G_lead*H)\n",
    "t_ll, x_ll = control.step_response(sys = T)"
   ]
  },
  {
   "cell_type": "code",
   "execution_count": 30,
   "metadata": {},
   "outputs": [
    {
     "data": {
      "text/plain": [
       "<matplotlib.legend.Legend at 0x175d0e759a0>"
      ]
     },
     "execution_count": 30,
     "metadata": {},
     "output_type": "execute_result"
    }
   ],
   "source": [
    "plt.figure(1)\n",
    "plt.plot(t_u, x_u, label = 'Uncompensated System')\n",
    "plt.plot(t_c, x_c, label = 'Compensated System')\n",
    "plt.plot(t_ll, x_ll, label = 'Lead-Lag Compensated System')\n",
    "plt.legend()"
   ]
  },
  {
   "cell_type": "markdown",
   "metadata": {
    "tags": []
   },
   "source": [
    "<h3>Problem 31</h3>"
   ]
  },
  {
   "cell_type": "markdown",
   "metadata": {
    "tags": []
   },
   "source": [
    "<h5>Part a: Minor loop design</h5>"
   ]
  },
  {
   "cell_type": "code",
   "execution_count": null,
   "metadata": {},
   "outputs": [],
   "source": [
    "s = control.tf('s')\n",
    "G = 1/(s*(s+2)*(s+5))"
   ]
  },
  {
   "cell_type": "code",
   "execution_count": null,
   "metadata": {},
   "outputs": [],
   "source": [
    "Ts_i = 4\n",
    "OS_i = 5\n",
    "d_i = -np.log(OS_i/100)/np.sqrt(np.pi**2 + (np.log(OS_i/100))**2)\n",
    "d_iwn = -4/Ts_i\n",
    "wn = d_iwn/d_i\n",
    "wd = wn*np.sqrt(1 - d_i**2)\n",
    "target_real = d_iwn\n",
    "target_imag = abs(wd)\n",
    "print(f\"Target dominant pole coordinates: {target_real} + {target_imag}i\")"
   ]
  },
  {
   "cell_type": "code",
   "execution_count": null,
   "metadata": {},
   "outputs": [],
   "source": [
    "poles = control.pole(G)\n",
    "zeros = control.zero(G)"
   ]
  },
  {
   "cell_type": "code",
   "execution_count": null,
   "metadata": {},
   "outputs": [],
   "source": [
    "angle = 0\n",
    "\n",
    "for pole in poles:\n",
    "    angle += -np.arctan2((target_imag - pole.imag), (target_real - pole.real))\n",
    "          \n",
    "for zero in zeros:\n",
    "    angle += np.arctan2((target_imag - zero.imag), (target_real - zero.real))\n",
    "    \n",
    "print(f\"Angle contribution of plant poles and zeros: {np.rad2deg(angle)}\")"
   ]
  },
  {
   "cell_type": "code",
   "execution_count": null,
   "metadata": {},
   "outputs": [],
   "source": [
    "angle_zc = -(np.pi + angle)\n",
    "print(f\"Necessary angle contribution of zero in feedback: {np.rad2deg(angle_zc)}\")"
   ]
  },
  {
   "cell_type": "code",
   "execution_count": null,
   "metadata": {},
   "outputs": [],
   "source": [
    "zc = -target_imag/np.tan(angle_zc) + target_real\n",
    "print(f\"Feedback compensator zero at: {zc} + 0i\")\n",
    "print(f\"Thus, a = {-zc}\")\n",
    "H = s - zc"
   ]
  },
  {
   "cell_type": "code",
   "execution_count": null,
   "metadata": {},
   "outputs": [],
   "source": [
    "print(f\"Target damping ratio: {d_i}\")\n",
    "rl = control.root_locus(G*H, grid = True)"
   ]
  },
  {
   "cell_type": "code",
   "execution_count": null,
   "metadata": {},
   "outputs": [],
   "source": [
    "Ki = 2.1"
   ]
  },
  {
   "cell_type": "code",
   "execution_count": null,
   "metadata": {},
   "outputs": [],
   "source": [
    "T = Ki*G/(1 + Ki*G*H)\n",
    "t_i, x_i = control.step_response(sys = T)\n",
    "plt.plot(t_i, x_i, label = 'Inner loop')"
   ]
  },
  {
   "cell_type": "markdown",
   "metadata": {
    "jp-MarkdownHeadingCollapsed": true,
    "tags": []
   },
   "source": [
    "<h5>Part b: Outer loop gain</h5>"
   ]
  },
  {
   "cell_type": "code",
   "execution_count": null,
   "metadata": {
    "tags": []
   },
   "outputs": [],
   "source": [
    "OS_o = 10\n",
    "d_o = -np.log(OS_o/100)/np.sqrt(np.pi**2 + (np.log(OS_o/100))**2)"
   ]
  },
  {
   "cell_type": "code",
   "execution_count": null,
   "metadata": {},
   "outputs": [],
   "source": [
    "G_o = Ki*G/(1 + Ki*G*H)\n",
    "H_o = 1\n",
    "print(f\"Target damping ratio: {d_o}\")\n",
    "rl = control.root_locus(G_o*H_o, grid = True)"
   ]
  },
  {
   "cell_type": "code",
   "execution_count": null,
   "metadata": {},
   "outputs": [],
   "source": [
    "K = 1.116"
   ]
  },
  {
   "cell_type": "code",
   "execution_count": null,
   "metadata": {},
   "outputs": [],
   "source": [
    "T = K*G_o/(1 + K*G_o*H_o)\n",
    "t_o, x_o = control.step_response(sys = T)\n",
    "plt.plot(t_o, x_o, label = 'Outer loop')"
   ]
  },
  {
   "cell_type": "code",
   "execution_count": null,
   "metadata": {},
   "outputs": [],
   "source": [
    "plt.figure(1)\n",
    "plt.plot(t_i, x_i, label = 'Inner loop')\n",
    "plt.plot(t_o, x_o, label = 'Outer loop')\n",
    "plt.legend()"
   ]
  },
  {
   "cell_type": "markdown",
   "metadata": {
    "tags": []
   },
   "source": [
    "<h3>Problem 47</h3>"
   ]
  },
  {
   "cell_type": "markdown",
   "metadata": {
    "tags": []
   },
   "source": [
    "<h5>Part a: Uncompensated system</h5>"
   ]
  },
  {
   "cell_type": "code",
   "execution_count": 49,
   "metadata": {},
   "outputs": [],
   "source": [
    "s = control.tf('s')\n",
    "Gg = 1/(0.2*s + 1)\n",
    "Gt = 1/(0.5*s + 1)\n",
    "Gm = 1/(10*s + 0.8)\n",
    "G = Gg*Gt*Gm\n",
    "H = 1"
   ]
  },
  {
   "cell_type": "code",
   "execution_count": 50,
   "metadata": {},
   "outputs": [
    {
     "name": "stdout",
     "output_type": "stream",
     "text": [
      "Target damping ratio: 0.7\n"
     ]
    }
   ],
   "source": [
    "d = 0.7\n",
    "print(f\"Target damping ratio: {d}\")\n",
    "rl = control.root_locus(G*H, grid = True)"
   ]
  },
  {
   "cell_type": "code",
   "execution_count": 51,
   "metadata": {},
   "outputs": [],
   "source": [
    "K = 7.045"
   ]
  },
  {
   "cell_type": "code",
   "execution_count": 52,
   "metadata": {},
   "outputs": [
    {
     "data": {
      "text/plain": [
       "[<matplotlib.lines.Line2D at 0x175d219d0a0>]"
      ]
     },
     "execution_count": 52,
     "metadata": {},
     "output_type": "execute_result"
    }
   ],
   "source": [
    "T = K*G/(1 + K*G*H)\n",
    "t_u, x_u = control.step_response(sys = T)\n",
    "plt.plot(t_u, x_u, label = 'Uncompensated System')"
   ]
  },
  {
   "cell_type": "markdown",
   "metadata": {
    "tags": []
   },
   "source": [
    "<h5>part b.1: PD design (similar to lead)</h5>"
   ]
  },
  {
   "cell_type": "code",
   "execution_count": 53,
   "metadata": {},
   "outputs": [],
   "source": [
    "Ts = 2"
   ]
  },
  {
   "cell_type": "code",
   "execution_count": 54,
   "metadata": {},
   "outputs": [
    {
     "name": "stdout",
     "output_type": "stream",
     "text": [
      "Target dominant pole coordinates: -2.0 + 2.040408122440814i\n"
     ]
    }
   ],
   "source": [
    "dwn = 4/Ts\n",
    "wn = dwn/d\n",
    "wd = wn*np.sqrt(1 - d**2)\n",
    "target_real = -dwn\n",
    "target_imag = wd\n",
    "print(f\"Target dominant pole coordinates: {target_real} + {target_imag}i\")"
   ]
  },
  {
   "cell_type": "code",
   "execution_count": 55,
   "metadata": {},
   "outputs": [],
   "source": [
    "poles = control.pole(K*G*H)\n",
    "zeros = control.zero(K*G*H)"
   ]
  },
  {
   "cell_type": "code",
   "execution_count": 56,
   "metadata": {},
   "outputs": [
    {
     "name": "stdout",
     "output_type": "stream",
     "text": [
      "Angle contribution of plant poles and zeros: -257.4796070131212\n"
     ]
    }
   ],
   "source": [
    "angle = 0\n",
    "\n",
    "for pole in poles:\n",
    "    angle += -np.arctan2((target_imag - pole.imag), (target_real - pole.real))\n",
    "          \n",
    "for zero in zeros:\n",
    "    angle += np.arctan2((target_imag - zero.imag), (target_real - zero.real))\n",
    "    \n",
    "print(f\"Angle contribution of plant poles and zeros: {np.rad2deg(angle)}\")"
   ]
  },
  {
   "cell_type": "code",
   "execution_count": 63,
   "metadata": {},
   "outputs": [
    {
     "name": "stdout",
     "output_type": "stream",
     "text": [
      "Necessary angle contribution of compensator zero: 77.4796070131212\n"
     ]
    }
   ],
   "source": [
    "angle_zc = -np.pi - angle\n",
    "print(f\"Necessary angle contribution of compensator zero: {np.rad2deg(angle_zc)}\")"
   ]
  },
  {
   "cell_type": "code",
   "execution_count": 64,
   "metadata": {},
   "outputs": [
    {
     "name": "stdout",
     "output_type": "stream",
     "text": [
      "Feedback compensator zero at: -2.4531095755182553 + 0i\n"
     ]
    }
   ],
   "source": [
    "zc = target_real - target_imag/np.tan(angle_zc)\n",
    "print(f\"Feedback compensator zero at: {zc} + 0i\")"
   ]
  },
  {
   "cell_type": "code",
   "execution_count": 65,
   "metadata": {},
   "outputs": [],
   "source": [
    "G_PD = (s - zc)"
   ]
  },
  {
   "cell_type": "code",
   "execution_count": 66,
   "metadata": {},
   "outputs": [
    {
     "name": "stdout",
     "output_type": "stream",
     "text": [
      "Target damping ratio: 0.7\n",
      "Clicked at     -2.008    +2.122j gain      10.29 damp     0.6873\n"
     ]
    },
    {
     "name": "stderr",
     "output_type": "stream",
     "text": [
      "C:\\Users\\jake\\anaconda3\\lib\\site-packages\\control\\rlocus.py:633: UserWarning: marker is redundantly defined by the 'marker' keyword argument and the fmt string \"k.\" (-> marker='.'). The keyword argument will take precedence.\n",
      "  ax_rlocus.plot(s.real, s.imag, 'k.', marker='s', markersize=8,\n"
     ]
    },
    {
     "name": "stdout",
     "output_type": "stream",
     "text": [
      "Clicked at     -2.007    +2.071j gain      10.07 damp      0.696\n"
     ]
    },
    {
     "name": "stderr",
     "output_type": "stream",
     "text": [
      "C:\\Users\\jake\\anaconda3\\lib\\site-packages\\control\\rlocus.py:633: UserWarning: marker is redundantly defined by the 'marker' keyword argument and the fmt string \"k.\" (-> marker='.'). The keyword argument will take precedence.\n",
      "  ax_rlocus.plot(s.real, s.imag, 'k.', marker='s', markersize=8,\n"
     ]
    },
    {
     "name": "stdout",
     "output_type": "stream",
     "text": [
      "Clicked at     -2.007    +2.067j gain      10.05 damp     0.6967\n",
      "Clicked at     -2.008    +2.069j gain      10.06 damp     0.6964\n",
      "Clicked at     -2.009    +2.071j gain      10.07 damp     0.6962\n",
      "Clicked at     -2.006    +2.058j gain      10.01 damp      0.698\n",
      "Clicked at     -2.005    +2.058j gain      10.01 damp     0.6979\n",
      "Clicked at     -2.004    +2.055j gain      9.993 damp     0.6982\n",
      "Clicked at     -2.003    +2.055j gain       9.99 damp     0.6981\n",
      "Clicked at     -1.999    +2.039j gain      9.918 damp     0.7001\n",
      "Clicked at     -1.999    +2.038j gain      9.914 damp     0.7003\n"
     ]
    },
    {
     "name": "stderr",
     "output_type": "stream",
     "text": [
      "C:\\Users\\jake\\anaconda3\\lib\\site-packages\\control\\rlocus.py:633: UserWarning: marker is redundantly defined by the 'marker' keyword argument and the fmt string \"k.\" (-> marker='.'). The keyword argument will take precedence.\n",
      "  ax_rlocus.plot(s.real, s.imag, 'k.', marker='s', markersize=8,\n"
     ]
    },
    {
     "name": "stdout",
     "output_type": "stream",
     "text": [
      "Clicked at     -1.999    +2.039j gain      9.914 damp     0.7002\n",
      "Clicked at         -2    +2.039j gain      9.916 damp     0.7002\n",
      "Clicked at         -2    +2.039j gain      9.916 damp     0.7002\n",
      "Clicked at         -2    +2.039j gain      9.918 damp     0.7002\n",
      "Clicked at         -2     +2.04j gain      9.921 damp     0.7001\n",
      "Clicked at         -2     +2.04j gain      9.922 damp        0.7\n"
     ]
    }
   ],
   "source": [
    "print(f\"Target damping ratio: {d}\")\n",
    "rl = control.root_locus(G*G_PD*H, grid = True)"
   ]
  },
  {
   "cell_type": "code",
   "execution_count": 67,
   "metadata": {},
   "outputs": [],
   "source": [
    "K = 9.922"
   ]
  },
  {
   "cell_type": "code",
   "execution_count": 68,
   "metadata": {},
   "outputs": [
    {
     "data": {
      "text/plain": [
       "[<matplotlib.lines.Line2D at 0x175d2f10fd0>]"
      ]
     },
     "execution_count": 68,
     "metadata": {},
     "output_type": "execute_result"
    }
   ],
   "source": [
    "T = K*G*G_PD/(1 + K*G*G_PD*H)\n",
    "t_u, x_u = control.step_response(sys = T)\n",
    "plt.plot(t_u, x_u, label = 'Uncompensated System')"
   ]
  },
  {
   "cell_type": "markdown",
   "metadata": {
    "jp-MarkdownHeadingCollapsed": true,
    "tags": []
   },
   "source": [
    "<h5>part b.2: PI design (similar to lag)</h5>"
   ]
  },
  {
   "cell_type": "code",
   "execution_count": 73,
   "metadata": {},
   "outputs": [],
   "source": [
    "G_PI = (s + 0.01)/s"
   ]
  },
  {
   "cell_type": "code",
   "execution_count": 74,
   "metadata": {},
   "outputs": [
    {
     "name": "stdout",
     "output_type": "stream",
     "text": [
      "Target damping ratio: 0.7\n",
      "Clicked at     -2.174    +3.362j gain      17.38 damp     0.5431\n"
     ]
    },
    {
     "name": "stderr",
     "output_type": "stream",
     "text": [
      "C:\\Users\\jake\\anaconda3\\lib\\site-packages\\control\\rlocus.py:633: UserWarning: marker is redundantly defined by the 'marker' keyword argument and the fmt string \"k.\" (-> marker='.'). The keyword argument will take precedence.\n",
      "  ax_rlocus.plot(s.real, s.imag, 'k.', marker='s', markersize=8,\n"
     ]
    },
    {
     "name": "stdout",
     "output_type": "stream",
     "text": [
      "Clicked at     -2.152    +2.484j gain      12.18 damp     0.6549\n",
      "Clicked at     -2.084    +2.448j gain      11.94 damp     0.6481\n",
      "Clicked at     -2.133    +2.896j gain      14.42 damp      0.593\n",
      "Clicked at     -2.035    +2.287j gain      11.11 damp     0.6647\n",
      "Clicked at     -1.963    +2.036j gain      9.883 damp     0.6942\n",
      "Clicked at     -1.958    +1.919j gain      9.378 damp     0.7142\n"
     ]
    },
    {
     "name": "stderr",
     "output_type": "stream",
     "text": [
      "C:\\Users\\jake\\anaconda3\\lib\\site-packages\\control\\rlocus.py:633: UserWarning: marker is redundantly defined by the 'marker' keyword argument and the fmt string \"k.\" (-> marker='.'). The keyword argument will take precedence.\n",
      "  ax_rlocus.plot(s.real, s.imag, 'k.', marker='s', markersize=8,\n"
     ]
    },
    {
     "name": "stdout",
     "output_type": "stream",
     "text": [
      "Clicked at      -1.96    +1.929j gain      9.421 damp     0.7127\n",
      "Clicked at     -1.962    +1.933j gain       9.44 damp     0.7124\n",
      "Clicked at     -1.965     +1.94j gain      9.477 damp     0.7116\n",
      "Clicked at     -1.969    +1.956j gain      9.549 damp     0.7094\n",
      "Clicked at     -1.973    +1.968j gain      9.605 damp     0.7079\n",
      "Clicked at     -1.978    +1.982j gain       9.67 damp     0.7064\n",
      "Clicked at     -1.984        +2j gain      9.755 damp     0.7042\n",
      "Clicked at      -1.99    +2.028j gain      9.884 damp     0.7003\n",
      "Clicked at      -1.99    +2.025j gain      9.867 damp      0.701\n"
     ]
    },
    {
     "name": "stderr",
     "output_type": "stream",
     "text": [
      "C:\\Users\\jake\\anaconda3\\lib\\site-packages\\control\\rlocus.py:633: UserWarning: marker is redundantly defined by the 'marker' keyword argument and the fmt string \"k.\" (-> marker='.'). The keyword argument will take precedence.\n",
      "  ax_rlocus.plot(s.real, s.imag, 'k.', marker='s', markersize=8,\n"
     ]
    },
    {
     "name": "stdout",
     "output_type": "stream",
     "text": [
      "Clicked at      -1.99    +2.025j gain      9.869 damp     0.7009\n",
      "Clicked at      -1.99    +2.025j gain       9.87 damp     0.7009\n",
      "Clicked at      -1.99    +2.025j gain      9.871 damp     0.7009\n",
      "Clicked at     -1.991    +2.027j gain      9.879 damp     0.7006\n",
      "Clicked at     -1.991    +2.029j gain      9.885 damp     0.7005\n",
      "Clicked at     -1.991    +2.029j gain      9.889 damp     0.7004\n",
      "Clicked at     -1.992    +2.031j gain      9.896 damp     0.7001\n",
      "Clicked at     -1.992    +2.032j gain      9.899 damp     0.7001\n"
     ]
    },
    {
     "name": "stderr",
     "output_type": "stream",
     "text": [
      "C:\\Users\\jake\\anaconda3\\lib\\site-packages\\control\\rlocus.py:633: UserWarning: marker is redundantly defined by the 'marker' keyword argument and the fmt string \"k.\" (-> marker='.'). The keyword argument will take precedence.\n",
      "  ax_rlocus.plot(s.real, s.imag, 'k.', marker='s', markersize=8,\n"
     ]
    },
    {
     "name": "stdout",
     "output_type": "stream",
     "text": [
      "Clicked at     -1.992    +2.032j gain      9.901 damp        0.7\n"
     ]
    }
   ],
   "source": [
    "print(f\"Target damping ratio: {d}\")\n",
    "rl = control.root_locus(G*G_PD*G_PI*H, grid = True)"
   ]
  },
  {
   "cell_type": "code",
   "execution_count": 75,
   "metadata": {},
   "outputs": [],
   "source": [
    "K = 9.901"
   ]
  },
  {
   "cell_type": "code",
   "execution_count": 76,
   "metadata": {},
   "outputs": [
    {
     "data": {
      "text/plain": [
       "[<matplotlib.lines.Line2D at 0x175dd35dfa0>]"
      ]
     },
     "execution_count": 76,
     "metadata": {},
     "output_type": "execute_result"
    }
   ],
   "source": [
    "T = K*G*G_PD*G_PI/(1 + K*G*G_PD*G_PI*H)\n",
    "t_u, x_u = control.step_response(sys = T)\n",
    "plt.plot(t_u, x_u, label = 'Uncompensated System')"
   ]
  }
 ],
 "metadata": {
  "kernelspec": {
   "display_name": "Python 3",
   "language": "python",
   "name": "python3"
  },
  "language_info": {
   "codemirror_mode": {
    "name": "ipython",
    "version": 3
   },
   "file_extension": ".py",
   "mimetype": "text/x-python",
   "name": "python",
   "nbconvert_exporter": "python",
   "pygments_lexer": "ipython3",
   "version": "3.7.6"
  }
 },
 "nbformat": 4,
 "nbformat_minor": 5
}

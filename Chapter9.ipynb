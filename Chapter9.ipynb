{
 "cells": [
  {
   "cell_type": "code",
   "execution_count": 4,
   "id": "b9e0beb2",
   "metadata": {},
   "outputs": [],
   "source": [
    "import numpy as np\n",
    "import matplotlib.pyplot as plt\n",
    "from IPython.display import Image\n",
    "import sympy as sp\n",
    "import control\n",
    "%matplotlib qt"
   ]
  },
  {
   "cell_type": "markdown",
   "id": "fc82f3bb",
   "metadata": {
    "tags": []
   },
   "source": [
    "<h1>Skill Assessments</h1>"
   ]
  },
  {
   "cell_type": "markdown",
   "id": "dce862ee",
   "metadata": {
    "jp-MarkdownHeadingCollapsed": true,
    "tags": []
   },
   "source": [
    "<h3>Skill Assessment 9.1</h3>"
   ]
  },
  {
   "cell_type": "code",
   "execution_count": null,
   "id": "b1e5a865",
   "metadata": {},
   "outputs": [],
   "source": [
    "s = control.tf('s')\n",
    "G = 1/(s*(s + 7))\n",
    "H = 1"
   ]
  },
  {
   "cell_type": "code",
   "execution_count": null,
   "id": "f6eb122f",
   "metadata": {},
   "outputs": [],
   "source": [
    "OS = 15\n",
    "d = -np.log(OS/100)/np.sqrt(np.pi**2 + (np.log(OS/100))**2)\n",
    "print(f\"Target damping ratio: {d}\")\n",
    "rl = control.root_locus(G*H, grid = True)"
   ]
  },
  {
   "cell_type": "code",
   "execution_count": null,
   "id": "47404d1e",
   "metadata": {},
   "outputs": [],
   "source": [
    "K = 45.85"
   ]
  },
  {
   "cell_type": "code",
   "execution_count": null,
   "id": "88d2f54b",
   "metadata": {},
   "outputs": [],
   "source": [
    "T = K*G/(1 + K*G*H)\n",
    "t_u, x_u = control.step_response(T)\n",
    "plt.plot(t_u, x_u, label = 'Uncompensated System')"
   ]
  },
  {
   "cell_type": "code",
   "execution_count": null,
   "id": "6ea4acea",
   "metadata": {},
   "outputs": [],
   "source": [
    "Kv_u = K/7\n",
    "print(f\"Ramp Steady State Error, Uncompensated = {1/Kv_u}\")"
   ]
  },
  {
   "cell_type": "code",
   "execution_count": null,
   "id": "f868ccc7",
   "metadata": {},
   "outputs": [],
   "source": [
    "Kv_c = 1/((1/Kv_u)*(1/20))\n",
    "rzcpc = Kv_c/Kv_u\n",
    "pc = 0.01 # arbitrarily chosen, close to zero!\n",
    "zc = rzcpc*pc"
   ]
  },
  {
   "cell_type": "code",
   "execution_count": null,
   "id": "7d8fbb94",
   "metadata": {},
   "outputs": [],
   "source": [
    "Gc = (s + zc)/(s + pc)\n",
    "T = K*Gc*G/(1 + K*Gc*G*H)\n",
    "t_c, x_c = control.step_response(sys = T)\n",
    "plt.plot(t_u, x_u, label = 'Uncompensated System')\n",
    "plt.plot(t_c, x_c, label = 'Compensated System')\n",
    "plt.legend()"
   ]
  },
  {
   "cell_type": "code",
   "execution_count": null,
   "id": "47d46085",
   "metadata": {},
   "outputs": [],
   "source": [
    "Gc"
   ]
  },
  {
   "cell_type": "code",
   "execution_count": null,
   "id": "1c27f2b7",
   "metadata": {},
   "outputs": [],
   "source": [
    "print(f\"Ramp Steady State Error, Compensated: {1/Kv_c}\")\n",
    "print(f\"Increase in accuracy: {100*Kv_c/Kv_u}%\")"
   ]
  },
  {
   "cell_type": "markdown",
   "id": "20b7b649",
   "metadata": {
    "jp-MarkdownHeadingCollapsed": true,
    "tags": []
   },
   "source": [
    "<h3>Skill Assessment 9.2</h3>"
   ]
  },
  {
   "cell_type": "code",
   "execution_count": null,
   "id": "10687074",
   "metadata": {},
   "outputs": [],
   "source": [
    "s = control.tf('s')\n",
    "G = 1/(s*(s+7))\n",
    "H = 1"
   ]
  },
  {
   "cell_type": "code",
   "execution_count": null,
   "id": "0509ddd7",
   "metadata": {},
   "outputs": [],
   "source": [
    "OS = 15\n",
    "d = -np.log(OS/100)/np.sqrt(np.pi**2 + (np.log(OS/100))**2)\n",
    "print(f\"Target damping ratio: {d}\")\n",
    "rl = control.root_locus(G*H, grid = True)"
   ]
  },
  {
   "cell_type": "code",
   "execution_count": null,
   "id": "5af319ec",
   "metadata": {},
   "outputs": [],
   "source": [
    "K, dwn = 45.82, 3.5"
   ]
  },
  {
   "cell_type": "code",
   "execution_count": null,
   "id": "1389fb99",
   "metadata": {},
   "outputs": [],
   "source": [
    "T = K*G/(1 + K*G*H)\n",
    "t_u, x_u = control.step_response(T)\n",
    "plt.plot(t_u, x_u, label = 'Uncompensated System')"
   ]
  },
  {
   "cell_type": "code",
   "execution_count": null,
   "id": "be87dec4",
   "metadata": {},
   "outputs": [],
   "source": [
    "Ts_u = 4/(dwn)\n",
    "print(f\"Uncompensated settling time: {Ts_u}s\")"
   ]
  },
  {
   "cell_type": "code",
   "execution_count": null,
   "id": "97f1be22",
   "metadata": {},
   "outputs": [],
   "source": [
    "Ts_c = Ts_u/3\n",
    "zc = -10"
   ]
  },
  {
   "cell_type": "code",
   "execution_count": null,
   "id": "a1105673",
   "metadata": {},
   "outputs": [],
   "source": [
    "target_real = -4/Ts_c\n",
    "target_imag = -target_real*np.tan(np.arccos(d))\n",
    "print(f\"Targeted design point: {target_real} + {target_imag}j\")"
   ]
  },
  {
   "cell_type": "code",
   "execution_count": null,
   "id": "deab4876",
   "metadata": {},
   "outputs": [],
   "source": [
    "poles = control.pole(K*G*H)\n",
    "zeros = control.zero(K*G*H)"
   ]
  },
  {
   "cell_type": "code",
   "execution_count": null,
   "id": "9a8ffbc8",
   "metadata": {},
   "outputs": [],
   "source": [
    "angle = 0\n",
    "\n",
    "# plant poles contribution:\n",
    "angle += -(np.pi - np.arctan(target_imag/(abs(target_real - poles[0].real))))\n",
    "angle += -(np.pi - np.arctan(target_imag/(abs(target_real - poles[1].real))))\n",
    "\n",
    "# compensator zero contribution:\n",
    "angle += (np.pi - np.arctan(target_imag/(abs(target_real - zc))))\n",
    "print(f\"Plant poles and compensator zero angle contribution: {np.rad2deg(angle)}\")"
   ]
  },
  {
   "cell_type": "code",
   "execution_count": null,
   "id": "e5f193c7",
   "metadata": {},
   "outputs": [],
   "source": [
    "theta_pc = angle + np.pi\n",
    "print(f\"Compensator pole angle contribution: {np.rad2deg(theta_pc)}\")\n",
    "pc = -target_imag/np.tan(theta_pc) + target_real\n",
    "print(f\"Compensator pole location: {pc}\")"
   ]
  },
  {
   "cell_type": "code",
   "execution_count": null,
   "id": "582b3540",
   "metadata": {},
   "outputs": [],
   "source": [
    "G_lead = (s - zc)/(s - pc)\n",
    "G_lead"
   ]
  },
  {
   "cell_type": "code",
   "execution_count": null,
   "id": "406abb5f",
   "metadata": {},
   "outputs": [],
   "source": [
    "G_final = G_lead*G\n",
    "rl = control.root_locus(G_final*H, grid = True)"
   ]
  },
  {
   "cell_type": "code",
   "execution_count": null,
   "id": "ed6858ce",
   "metadata": {},
   "outputs": [],
   "source": [
    "K_c = 476.1"
   ]
  },
  {
   "cell_type": "code",
   "execution_count": null,
   "id": "e3450789",
   "metadata": {},
   "outputs": [],
   "source": [
    "T = K_c*G_final/(1 + K_c*G_final*H)\n",
    "t_c, x_c = control.step_response(sys = T)\n",
    "plt.plot(t_u, x_u, label = 'Uncompensated System')\n",
    "plt.plot(t_c, x_c, label = 'Compensated System')\n",
    "plt.legend()"
   ]
  },
  {
   "cell_type": "markdown",
   "id": "ee0f02de",
   "metadata": {
    "jp-MarkdownHeadingCollapsed": true,
    "tags": []
   },
   "source": [
    "<h3>Skill Assessment 9.3</h3>"
   ]
  },
  {
   "cell_type": "code",
   "execution_count": null,
   "id": "cf43900b",
   "metadata": {},
   "outputs": [],
   "source": [
    "s = control.tf('s')\n",
    "G = 1/(s*(s+7))\n",
    "H = 1"
   ]
  },
  {
   "cell_type": "code",
   "execution_count": null,
   "id": "db72264e",
   "metadata": {},
   "outputs": [],
   "source": [
    "OS = 20\n",
    "d = -np.log(OS/100)/np.sqrt(np.pi**2 + (np.log(OS/100))**2)\n",
    "print(f\"Target damping ratio: {d}\")\n",
    "rl = control.root_locus(G*H, grid = True)"
   ]
  },
  {
   "cell_type": "code",
   "execution_count": null,
   "id": "d7d15121-6661-43e2-b952-cc717a47e91f",
   "metadata": {},
   "outputs": [],
   "source": [
    "K = 58.95"
   ]
  },
  {
   "cell_type": "code",
   "execution_count": null,
   "id": "a88a48cd",
   "metadata": {},
   "outputs": [],
   "source": [
    "dwn = -3.5\n",
    "wd = 6.831\n",
    "Ts_u = -4/dwn\n",
    "print(f\"Uncompensated settling time: {Ts_u}\")\n",
    "T = K*G/(1 + K*G*H)\n",
    "t_u, x_u = control.step_response(sys = T)"
   ]
  },
  {
   "cell_type": "code",
   "execution_count": null,
   "id": "1b7a5deb",
   "metadata": {},
   "outputs": [],
   "source": [
    "Kv_u = K/7\n",
    "ess_ramp_u = 1/Kv_u\n",
    "print(f\"Uncompensating steady-state error for ramp input: {ess_ramp_u}\")"
   ]
  },
  {
   "cell_type": "code",
   "execution_count": null,
   "id": "7c973e71",
   "metadata": {},
   "outputs": [],
   "source": [
    "Ts_c = Ts_u/2\n",
    "print(f\"Compensated settling time: {Ts_c}\")"
   ]
  },
  {
   "cell_type": "code",
   "execution_count": null,
   "id": "c880e50d",
   "metadata": {},
   "outputs": [],
   "source": [
    "target_real = -4/Ts_c\n",
    "target_imag = -np.tan(np.arccos(d))*target_real\n",
    "print(f\"Targeted design point: {target_real} + {target_imag}j\")"
   ]
  },
  {
   "cell_type": "code",
   "execution_count": null,
   "id": "53c891ba",
   "metadata": {},
   "outputs": [],
   "source": [
    "zc = -3"
   ]
  },
  {
   "cell_type": "code",
   "execution_count": null,
   "id": "24f1e65a",
   "metadata": {},
   "outputs": [],
   "source": [
    "poles = control.pole(K*G*H)\n",
    "zeros = control.zero(K*G*H)"
   ]
  },
  {
   "cell_type": "code",
   "execution_count": null,
   "id": "53e34e96",
   "metadata": {},
   "outputs": [],
   "source": [
    "angle = 0\n",
    "\n",
    "# plant poles contribution:\n",
    "angle += -np.pi/2\n",
    "angle += -(np.pi - np.arctan(target_imag/(abs(target_real - poles[1].real))))\n",
    "\n",
    "# compensator zero contribution:\n",
    "angle += (np.pi - np.arctan(target_imag/(abs(target_real - zc))))\n",
    "print(f\"Plant poles and compensator zero angle contribution: {np.rad2deg(angle)}\")"
   ]
  },
  {
   "cell_type": "code",
   "execution_count": null,
   "id": "df3f71d4",
   "metadata": {},
   "outputs": [],
   "source": [
    "theta_pc = angle + np.pi\n",
    "print(f\"Compensator pole angle contribution: {np.rad2deg(theta_pc)}\")\n",
    "pc = -target_imag/np.tan(theta_pc) + target_real\n",
    "print(f\"Compensator pole location: {pc}\")"
   ]
  },
  {
   "cell_type": "code",
   "execution_count": null,
   "id": "b38e8cf1",
   "metadata": {},
   "outputs": [],
   "source": [
    "G_lead = (s - zc)/(s - pc)\n",
    "G_lead"
   ]
  },
  {
   "cell_type": "code",
   "execution_count": null,
   "id": "4869ee8e",
   "metadata": {},
   "outputs": [],
   "source": [
    "rl = control.root_locus(G*G_lead*H, grid = True)"
   ]
  },
  {
   "cell_type": "code",
   "execution_count": null,
   "id": "73213293",
   "metadata": {},
   "outputs": [],
   "source": [
    "K = 205.4"
   ]
  },
  {
   "cell_type": "code",
   "execution_count": null,
   "id": "f873b4a3",
   "metadata": {},
   "outputs": [],
   "source": [
    "G_lead*G*H"
   ]
  },
  {
   "cell_type": "code",
   "execution_count": null,
   "id": "b0830aa2",
   "metadata": {},
   "outputs": [],
   "source": [
    "T = K*G*G_lead/(1 + K*G*G_lead*H)\n",
    "t_l, x_l = control.step_response(sys = T)"
   ]
  },
  {
   "cell_type": "code",
   "execution_count": null,
   "id": "0e6664ed",
   "metadata": {},
   "outputs": [],
   "source": [
    "Kv_l = K*3/(67.26)\n",
    "ess_ramp_l = 1/Kv_l\n",
    "print(f\"Factor of improvement in steady-state error: {ess_ramp_l/ess_ramp_u}\")"
   ]
  },
  {
   "cell_type": "code",
   "execution_count": null,
   "id": "7dcceb29",
   "metadata": {},
   "outputs": [],
   "source": [
    "improvement_lag = 10/(ess_ramp_u/ess_ramp_l)\n",
    "print(f\"Lag compenstor must improve new system steady-state error by: {improvement_lag}\")"
   ]
  },
  {
   "cell_type": "code",
   "execution_count": null,
   "id": "5023c769",
   "metadata": {},
   "outputs": [],
   "source": [
    "pc = -0.01\n",
    "zc = improvement_lag*pc"
   ]
  },
  {
   "cell_type": "code",
   "execution_count": null,
   "id": "383560db",
   "metadata": {},
   "outputs": [],
   "source": [
    "G_lag = (s - zc)/(s - pc)\n",
    "G_lag"
   ]
  },
  {
   "cell_type": "code",
   "execution_count": null,
   "id": "a65616b1",
   "metadata": {},
   "outputs": [],
   "source": [
    "rl = control.root_locus(G*G_lead*G_lag*H, grid = True)"
   ]
  },
  {
   "cell_type": "code",
   "execution_count": null,
   "id": "f147609f",
   "metadata": {},
   "outputs": [],
   "source": [
    "K = 209.7"
   ]
  },
  {
   "cell_type": "code",
   "execution_count": null,
   "id": "0684dbcc",
   "metadata": {},
   "outputs": [],
   "source": [
    "T = K*G*G_lead*G_lag/(1 + K*G*G_lead*G_lag*H)\n",
    "t_ll, x_ll = control.step_response(sys = T)"
   ]
  },
  {
   "cell_type": "code",
   "execution_count": null,
   "id": "1bbd6120",
   "metadata": {},
   "outputs": [],
   "source": [
    "plt.plot(t_u, x_u, label = 'Uncompensated System')\n",
    "plt.plot(t_c, x_c, label = 'Compensated, lead System')\n",
    "plt.plot(t_ll, x_ll, label = \"Compensated, lead-lag System\")\n",
    "plt.legend()"
   ]
  },
  {
   "cell_type": "markdown",
   "id": "27da8e2c-6627-461c-bd5c-05061f5db1a6",
   "metadata": {
    "jp-MarkdownHeadingCollapsed": true,
    "tags": []
   },
   "source": [
    "<h3>Skill Assessment 9.4</h3>"
   ]
  },
  {
   "cell_type": "code",
   "execution_count": null,
   "id": "f886550d-f000-4440-a976-aba6695debf0",
   "metadata": {},
   "outputs": [],
   "source": [
    "s = control.tf('s')\n",
    "Gi = 1/(s*(s+7)*(s+10))\n",
    "Hi = s\n",
    "di = 0.7\n",
    "print(f\"Inner-loop compensated damping ratio: {di}\")"
   ]
  },
  {
   "cell_type": "code",
   "execution_count": null,
   "id": "efa77b37-70b9-4698-acec-f7fce00c8730",
   "metadata": {},
   "outputs": [],
   "source": [
    "T = Gi\n",
    "t_iu, x_iu = control.step_response(sys = T)\n",
    "plt.plot(t_iu, x_iu)"
   ]
  },
  {
   "cell_type": "code",
   "execution_count": null,
   "id": "d8604c5d-b3ba-4c77-9c08-8953a988826d",
   "metadata": {},
   "outputs": [],
   "source": [
    "rl = control.root_locus(Hi*Gi, grid = True)"
   ]
  },
  {
   "cell_type": "code",
   "execution_count": null,
   "id": "7d70895e-9d30-4bf6-b857-d70810a2d751",
   "metadata": {},
   "outputs": [],
   "source": [
    "Kf = 77.44"
   ]
  },
  {
   "cell_type": "code",
   "execution_count": null,
   "id": "8357caea-f85e-4c2f-b650-dcfd2ac1ac91",
   "metadata": {},
   "outputs": [],
   "source": [
    "T = Gi/(1 + Kf*Hi*Gi)\n",
    "t_ic, x_ic = control.step_response(sys = T)\n",
    "plt.plot(t_ic, x_ic)"
   ]
  },
  {
   "cell_type": "code",
   "execution_count": null,
   "id": "5c430c2c-57c5-4e2d-aa7c-87acf1cfa998",
   "metadata": {},
   "outputs": [],
   "source": [
    "Go = Gi/(1 + Gi*Kf*Hi)\n",
    "Ho = 1\n",
    "do = 0.5\n",
    "print(f\"Outer-loop compensated damping ratio: {do}\")"
   ]
  },
  {
   "cell_type": "code",
   "execution_count": null,
   "id": "57c57363-79be-494d-a745-018bbe5bd8ec",
   "metadata": {},
   "outputs": [],
   "source": [
    "T = Go/(1 + Go*Ho)\n",
    "t_ou, x_ou = control.step_response(sys = T)"
   ]
  },
  {
   "cell_type": "code",
   "execution_count": null,
   "id": "aa2d5588-5e6e-4428-960d-516c7d068817",
   "metadata": {},
   "outputs": [],
   "source": [
    "rl = control.root_locus(Ho*Go, grid = True)"
   ]
  },
  {
   "cell_type": "code",
   "execution_count": null,
   "id": "26399a7c-c93b-451c-9e50-24c0e58e6fe6",
   "metadata": {},
   "outputs": [],
   "source": [
    "Ko = 626.4"
   ]
  },
  {
   "cell_type": "code",
   "execution_count": null,
   "id": "bcbacd25-1b50-4c86-a652-890aa2e0f5b2",
   "metadata": {},
   "outputs": [],
   "source": [
    "T = Ko*Go/(1 + Go*Ho)\n",
    "t_oc, x_oc = control.step_response(sys = T)"
   ]
  },
  {
   "cell_type": "code",
   "execution_count": null,
   "id": "9c48401a-a36d-4994-aebc-ec3ea2901f48",
   "metadata": {},
   "outputs": [],
   "source": [
    "plt.figure(1)\n",
    "plt.plot(t_iu, x_iu, label = 'Uncompensated inner loop')\n",
    "plt.plot(t_ic, x_ic, label = 'Compensated inner loop')\n",
    "plt.title('Inner loop behavior')\n",
    "plt.legend()\n",
    "\n",
    "plt.figure(2)\n",
    "plt.plot(t_ou, x_ou, label = 'Uncompensated outer loop')\n",
    "plt.plot(t_oc, x_oc, label = 'Compensated outer loop')\n",
    "plt.title('Outer loop behavior')\n",
    "plt.legend()"
   ]
  },
  {
   "cell_type": "markdown",
   "id": "2ccee5af-57d6-46f5-954d-3859b34a444e",
   "metadata": {
    "tags": []
   },
   "source": [
    "<h1>Homework 9</h1>"
   ]
  },
  {
   "cell_type": "markdown",
   "id": "d202e8f1-82dd-474c-aef7-764dcb230818",
   "metadata": {
    "tags": []
   },
   "source": [
    "<h3>Problem 22</h3>"
   ]
  },
  {
   "cell_type": "markdown",
   "id": "5a6f0f16-8ffd-4dc8-ac3f-39f3cdffd987",
   "metadata": {
    "jp-MarkdownHeadingCollapsed": true,
    "tags": []
   },
   "source": [
    "<h5>Uncompensated</h5>"
   ]
  },
  {
   "cell_type": "code",
   "execution_count": 5,
   "id": "1ad76ebf-bdf5-4153-ab83-1798df001d0d",
   "metadata": {},
   "outputs": [],
   "source": [
    "s = control.tf('s')\n",
    "G = 1/(s*(s+5)*(s+11))\n",
    "H = 1"
   ]
  },
  {
   "cell_type": "code",
   "execution_count": 6,
   "id": "1c9be20d-add2-4f54-b474-e6fe45038270",
   "metadata": {},
   "outputs": [],
   "source": [
    "OS_u = 30\n",
    "d_u = -np.log(OS_u/100)/np.sqrt(np.pi**2 + (np.log(OS_u/100))**2)"
   ]
  },
  {
   "cell_type": "code",
   "execution_count": 7,
   "id": "8c09dd8c-1c75-4564-a8fe-978b15ae451b",
   "metadata": {},
   "outputs": [
    {
     "name": "stdout",
     "output_type": "stream",
     "text": [
      "Target damping ratio: 0.3578571305033167\n"
     ]
    }
   ],
   "source": [
    "print(f\"Target damping ratio: {d_u}\")\n",
    "rl = control.root_locus(G*H, grid = True)"
   ]
  },
  {
   "cell_type": "code",
   "execution_count": 8,
   "id": "88c0b8ba-9f88-4db7-81f8-55169d1a14d1",
   "metadata": {},
   "outputs": [
    {
     "name": "stdout",
     "output_type": "stream",
     "text": [
      "Gain, K, for the uncompensated system to operate with 30% overshoot: 218.8\n"
     ]
    }
   ],
   "source": [
    "K = 218.8\n",
    "dom_real, dom_imag = -1.465, 3.82\n",
    "print(f\"Gain, K, for the uncompensated system to operate with 30% overshoot: {K}\")"
   ]
  },
  {
   "cell_type": "code",
   "execution_count": 9,
   "id": "b4e6e365-5d82-4beb-b92a-803861ab74b8",
   "metadata": {},
   "outputs": [
    {
     "name": "stdout",
     "output_type": "stream",
     "text": [
      "Peak time for uncompensated system: 0.8224064538193177s\n",
      "Steady State Error (ramp input) constant, Kv: 3.9781818181818185\n",
      "Steady State Error (ramp input): 0.25137111517367455\n"
     ]
    }
   ],
   "source": [
    "Tp_u = np.pi/dom_imag\n",
    "Kv_u = K/(5*11)\n",
    "print(f\"Peak time for uncompensated system: {Tp_u}s\")\n",
    "print(f\"Steady State Error (ramp input) constant, Kv: {Kv_u}\")\n",
    "print(f\"Steady State Error (ramp input): {1/Kv_u}\")"
   ]
  },
  {
   "cell_type": "code",
   "execution_count": 10,
   "id": "2030fa36-049c-475b-ba41-941e66335466",
   "metadata": {},
   "outputs": [
    {
     "data": {
      "text/plain": [
       "[<matplotlib.lines.Line2D at 0x175d03b3c40>]"
      ]
     },
     "execution_count": 10,
     "metadata": {},
     "output_type": "execute_result"
    }
   ],
   "source": [
    "T = K*G/(1 + K*G*H)\n",
    "t_u, x_u = control.step_response(sys = T)\n",
    "plt.plot(t_u, x_u, label = 'Uncompensated System')"
   ]
  },
  {
   "cell_type": "markdown",
   "id": "201ddaee-e5e3-49f0-a28a-7d3a85a7a619",
   "metadata": {
    "jp-MarkdownHeadingCollapsed": true,
    "tags": []
   },
   "source": [
    "<h5>Lead Compensator (transient response)</h5>"
   ]
  },
  {
   "cell_type": "code",
   "execution_count": 11,
   "id": "a001ac6d-50c0-4769-9253-74b6dd24f6cf",
   "metadata": {},
   "outputs": [],
   "source": [
    "Tp_c = Tp_u/2\n",
    "OS_c = OS_u/2\n",
    "d_c = -np.log(OS_c/100)/np.sqrt(np.pi**2 + (np.log(OS_c/100))**2)"
   ]
  },
  {
   "cell_type": "code",
   "execution_count": 12,
   "id": "b920f38c-7f01-4384-9dff-0556d32afbd6",
   "metadata": {
    "tags": []
   },
   "outputs": [
    {
     "name": "stdout",
     "output_type": "stream",
     "text": [
      "Target dominant pole coordinates: -4.61358243500039 + 7.64i\n"
     ]
    }
   ],
   "source": [
    "target_imag = np.pi/Tp_c\n",
    "target_real = -target_imag/np.tan(np.arccos(d_c))\n",
    "print(f\"Target dominant pole coordinates: {target_real} + {target_imag}i\")"
   ]
  },
  {
   "cell_type": "code",
   "execution_count": 13,
   "id": "ba904f66-8b57-4d5c-a3ee-6d7ac5bb7257",
   "metadata": {},
   "outputs": [],
   "source": [
    "poles = control.pole(K*G*H)\n",
    "zeros = control.zero(K*G*H)"
   ]
  },
  {
   "cell_type": "code",
   "execution_count": 14,
   "id": "a0fa243b-640a-4e88-8e8f-4d70bdde6c02",
   "metadata": {},
   "outputs": [
    {
     "name": "stdout",
     "output_type": "stream",
     "text": [
      "Angle contribution of plant poles and zeros: -258.3382777745947\n"
     ]
    }
   ],
   "source": [
    "angle = 0\n",
    "\n",
    "for pole in poles:\n",
    "    angle += -np.arctan2((target_imag - pole.imag), (target_real - pole.real))\n",
    "          \n",
    "for zero in zeros:\n",
    "    angle += np.arctan2((target_imag - zero.imag), (target_real - zero.real))\n",
    "    \n",
    "print(f\"Angle contribution of plant poles and zeros: {np.rad2deg(angle)}\")"
   ]
  },
  {
   "cell_type": "code",
   "execution_count": 15,
   "id": "4372e108-9a9d-4b62-b273-e79ce650a051",
   "metadata": {},
   "outputs": [
    {
     "name": "stdout",
     "output_type": "stream",
     "text": [
      "Necessary angle contribution of compensator pole, zero: 78.33827777459473\n"
     ]
    }
   ],
   "source": [
    "print(f\"Necessary angle contribution of compensator pole, zero: {np.rad2deg(-np.pi - angle)}\")"
   ]
  },
  {
   "cell_type": "code",
   "execution_count": 16,
   "id": "71946cd3-376a-4add-8ec4-82d86fcd2584",
   "metadata": {},
   "outputs": [
    {
     "name": "stdout",
     "output_type": "stream",
     "text": [
      "Angle contribution of compensator zero: 87.10454905010145\n"
     ]
    }
   ],
   "source": [
    "zc = -5\n",
    "angle_zc = np.arctan2(target_imag, (target_real - zc))\n",
    "print(f\"Angle contribution of compensator zero: {np.rad2deg(angle_zc)}\")"
   ]
  },
  {
   "cell_type": "code",
   "execution_count": 17,
   "id": "3e5639ca-b5de-48ab-8e13-a4364719e013",
   "metadata": {},
   "outputs": [
    {
     "name": "stdout",
     "output_type": "stream",
     "text": [
      "Angle contribution of compensator pole: 8.766271275506735\n"
     ]
    }
   ],
   "source": [
    "angle_pc = np.pi + angle + angle_zc\n",
    "print(f\"Angle contribution of compensator pole: {np.rad2deg(angle_pc)}\")"
   ]
  },
  {
   "cell_type": "code",
   "execution_count": 18,
   "id": "5eb4b9da-d300-4c89-8afa-ef57abd6b2cf",
   "metadata": {},
   "outputs": [
    {
     "name": "stdout",
     "output_type": "stream",
     "text": [
      "Compensator zero and pole location: -5, -54.15787587445776\n"
     ]
    }
   ],
   "source": [
    "pc = target_real - target_imag/np.tan(angle_pc)\n",
    "print(f\"Compensator zero and pole location: {zc}, {pc}\")"
   ]
  },
  {
   "cell_type": "code",
   "execution_count": 19,
   "id": "2a79aa4f-5318-40b4-b9d5-bb386737645a",
   "metadata": {},
   "outputs": [
    {
     "data": {
      "text/latex": [
       "$$\\frac{s + 5}{s + 54.16}$$"
      ],
      "text/plain": [
       "TransferFunction(array([1, 5]), array([ 1.        , 54.15787587]))"
      ]
     },
     "execution_count": 19,
     "metadata": {},
     "output_type": "execute_result"
    }
   ],
   "source": [
    "G_lead = (s - zc)/(s - pc)\n",
    "G_lead"
   ]
  },
  {
   "cell_type": "code",
   "execution_count": 20,
   "id": "050b1050-9195-445c-9698-583acd5e01a8",
   "metadata": {},
   "outputs": [
    {
     "name": "stdout",
     "output_type": "stream",
     "text": [
      "Target damping ratio: 0.5169308662051556\n"
     ]
    }
   ],
   "source": [
    "print(f\"Target damping ratio: {d_c}\")\n",
    "rl = control.root_locus(G_lead*G*H, grid = True)"
   ]
  },
  {
   "cell_type": "code",
   "execution_count": 21,
   "id": "ee62320a-2d15-47fd-839b-c2f1a5788f3e",
   "metadata": {},
   "outputs": [],
   "source": [
    "K = 4455"
   ]
  },
  {
   "cell_type": "code",
   "execution_count": 22,
   "id": "855b2fa8-d2e7-4236-b63d-1967dcf66ce2",
   "metadata": {},
   "outputs": [],
   "source": [
    "T = K*G*G_lead/(1 + K*G*G_lead*H)\n",
    "t_c, x_c = control.step_response(sys = T)"
   ]
  },
  {
   "cell_type": "code",
   "execution_count": 23,
   "id": "aefa4e18-996d-4e7a-925d-a60675a8c9e3",
   "metadata": {},
   "outputs": [
    {
     "data": {
      "text/plain": [
       "<matplotlib.legend.Legend at 0x175d0e35e20>"
      ]
     },
     "execution_count": 23,
     "metadata": {},
     "output_type": "execute_result"
    }
   ],
   "source": [
    "plt.figure(1)\n",
    "plt.plot(t_u, x_u, label = 'Uncompensated System')\n",
    "plt.plot(t_c, x_c, label = 'Compensated System')\n",
    "plt.legend()"
   ]
  },
  {
   "cell_type": "markdown",
   "id": "d54e4939-43f3-4769-80ac-193515fc5ed2",
   "metadata": {
    "jp-MarkdownHeadingCollapsed": true,
    "tags": []
   },
   "source": [
    "<h5>Lag Compensator (steady-state response)</h5>"
   ]
  },
  {
   "cell_type": "code",
   "execution_count": 24,
   "id": "d84e3c8a-251f-4d63-87f5-56510acb30b1",
   "metadata": {},
   "outputs": [
    {
     "data": {
      "text/latex": [
       "$$\\frac{4455 s + 2.228 \\times 10^{4}}{s^4 + 70.16 s^3 + 921.5 s^2 + 2979 s}$$"
      ],
      "text/plain": [
       "TransferFunction(array([ 4455., 22275.]), array([1.00000000e+00, 7.01578759e+01, 9.21526014e+02, 2.97868317e+03,\n",
       "       0.00000000e+00]))"
      ]
     },
     "execution_count": 24,
     "metadata": {},
     "output_type": "execute_result"
    }
   ],
   "source": [
    "K*G*G_lead*H"
   ]
  },
  {
   "cell_type": "code",
   "execution_count": 25,
   "id": "0514957a-6707-4c14-91f3-fa03859a3f31",
   "metadata": {},
   "outputs": [
    {
     "name": "stdout",
     "output_type": "stream",
     "text": [
      "Lead compensator steady state correction :1.880009548865213\n",
      "New correction for lag compensator: 15.957365758119797\n"
     ]
    }
   ],
   "source": [
    "Kv_c = 22280/2979\n",
    "print(f\"Lead compensator steady state correction :{Kv_c/Kv_u}\")\n",
    "correction = 30/(Kv_c/Kv_u)\n",
    "print(f\"New correction for lag compensator: {correction}\")"
   ]
  },
  {
   "cell_type": "code",
   "execution_count": 26,
   "id": "6d8bf9b6-11fd-4a7b-b405-ad9312855ed7",
   "metadata": {},
   "outputs": [
    {
     "name": "stdout",
     "output_type": "stream",
     "text": [
      "Lag compensator zero and pole: -0.015957365758119797, -0.001\n"
     ]
    },
    {
     "data": {
      "text/latex": [
       "$$\\frac{s - 0.01596}{s - 0.001}$$"
      ],
      "text/plain": [
       "TransferFunction(array([ 1.        , -0.01595737]), array([ 1.   , -0.001]))"
      ]
     },
     "execution_count": 26,
     "metadata": {},
     "output_type": "execute_result"
    }
   ],
   "source": [
    "pc = -0.001\n",
    "zc = correction*pc\n",
    "print(f\"Lag compensator zero and pole: {zc}, {pc}\")\n",
    "G_lag = (s + zc)/(s + pc)\n",
    "G_lag"
   ]
  },
  {
   "cell_type": "code",
   "execution_count": 27,
   "id": "52115794-e107-45e2-914b-5a42797a2f2d",
   "metadata": {},
   "outputs": [
    {
     "name": "stdout",
     "output_type": "stream",
     "text": [
      "Target damping ratio: 0.5169308662051556\n"
     ]
    }
   ],
   "source": [
    "print(f\"Target damping ratio: {d_c}\")\n",
    "rl = control.root_locus(G*G_lead*G_lag*H, grid = True)"
   ]
  },
  {
   "cell_type": "code",
   "execution_count": 28,
   "id": "49fa73fd-730a-4450-a38d-52f21240a7e4",
   "metadata": {},
   "outputs": [],
   "source": [
    "K = 4459"
   ]
  },
  {
   "cell_type": "code",
   "execution_count": 29,
   "id": "2c0fde6a-d1c2-4487-8d76-2adf6cc1366a",
   "metadata": {},
   "outputs": [],
   "source": [
    "T = K*G*G_lag*G_lead/(1 + K*G*G_lag*G_lead*H)\n",
    "t_ll, x_ll = control.step_response(sys = T)"
   ]
  },
  {
   "cell_type": "code",
   "execution_count": 30,
   "id": "1e62d3f6-0a63-467e-ae15-b322538cea53",
   "metadata": {},
   "outputs": [
    {
     "data": {
      "text/plain": [
       "<matplotlib.legend.Legend at 0x175d0e759a0>"
      ]
     },
     "execution_count": 30,
     "metadata": {},
     "output_type": "execute_result"
    }
   ],
   "source": [
    "plt.figure(1)\n",
    "plt.plot(t_u, x_u, label = 'Uncompensated System')\n",
    "plt.plot(t_c, x_c, label = 'Compensated System')\n",
    "plt.plot(t_ll, x_ll, label = 'Lead-Lag Compensated System')\n",
    "plt.legend()"
   ]
  },
  {
   "cell_type": "markdown",
   "id": "87b69257-9a90-4a7f-bc00-be76526eac19",
   "metadata": {
    "tags": []
   },
   "source": [
    "<h3>Problem 31</h3>"
   ]
  },
  {
   "cell_type": "markdown",
   "id": "a603f8d3-0984-4c01-9bd9-c16473a0d6d7",
   "metadata": {
    "tags": []
   },
   "source": [
    "<h5>Part a: Minor loop design</h5>"
   ]
  },
  {
   "cell_type": "code",
   "execution_count": null,
   "id": "edc1ed0e-d63d-42e1-839d-304b851e9587",
   "metadata": {},
   "outputs": [],
   "source": [
    "s = control.tf('s')\n",
    "G = 1/(s*(s+2)*(s+5))"
   ]
  },
  {
   "cell_type": "code",
   "execution_count": null,
   "id": "3f074726-28e9-4472-ab49-c07ec7a130ff",
   "metadata": {},
   "outputs": [],
   "source": [
    "Ts_i = 4\n",
    "OS_i = 5\n",
    "d_i = -np.log(OS_i/100)/np.sqrt(np.pi**2 + (np.log(OS_i/100))**2)\n",
    "d_iwn = -4/Ts_i\n",
    "wn = d_iwn/d_i\n",
    "wd = wn*np.sqrt(1 - d_i**2)\n",
    "target_real = d_iwn\n",
    "target_imag = abs(wd)\n",
    "print(f\"Target dominant pole coordinates: {target_real} + {target_imag}i\")"
   ]
  },
  {
   "cell_type": "code",
   "execution_count": null,
   "id": "20a4b785-e9bc-4aa6-b99d-37bb00b0b654",
   "metadata": {},
   "outputs": [],
   "source": [
    "poles = control.pole(G)\n",
    "zeros = control.zero(G)"
   ]
  },
  {
   "cell_type": "code",
   "execution_count": null,
   "id": "f19fee3a-7608-4225-9c80-9f5d2236cad7",
   "metadata": {},
   "outputs": [],
   "source": [
    "angle = 0\n",
    "\n",
    "for pole in poles:\n",
    "    angle += -np.arctan2((target_imag - pole.imag), (target_real - pole.real))\n",
    "          \n",
    "for zero in zeros:\n",
    "    angle += np.arctan2((target_imag - zero.imag), (target_real - zero.real))\n",
    "    \n",
    "print(f\"Angle contribution of plant poles and zeros: {np.rad2deg(angle)}\")"
   ]
  },
  {
   "cell_type": "code",
   "execution_count": null,
   "id": "fe7b6649-1633-434f-9354-85b949fe52f2",
   "metadata": {},
   "outputs": [],
   "source": [
    "angle_zc = -(np.pi + angle)\n",
    "print(f\"Necessary angle contribution of zero in feedback: {np.rad2deg(angle_zc)}\")"
   ]
  },
  {
   "cell_type": "code",
   "execution_count": null,
   "id": "770c14f5-d3ca-44fe-afe1-9d6c05de3717",
   "metadata": {},
   "outputs": [],
   "source": [
    "zc = -target_imag/np.tan(angle_zc) + target_real\n",
    "print(f\"Feedback compensator zero at: {zc} + 0i\")\n",
    "print(f\"Thus, a = {-zc}\")\n",
    "H = s - zc"
   ]
  },
  {
   "cell_type": "code",
   "execution_count": null,
   "id": "c28c1b6f-1ee2-4a7c-8507-b707f6175d05",
   "metadata": {},
   "outputs": [],
   "source": [
    "print(f\"Target damping ratio: {d_i}\")\n",
    "rl = control.root_locus(G*H, grid = True)"
   ]
  },
  {
   "cell_type": "code",
   "execution_count": null,
   "id": "626d9a09-f697-4d37-99bc-dacd6f2ba391",
   "metadata": {},
   "outputs": [],
   "source": [
    "Ki = 2.1"
   ]
  },
  {
   "cell_type": "code",
   "execution_count": null,
   "id": "e229b925-ba41-4fbc-af8d-f37d85cc955e",
   "metadata": {},
   "outputs": [],
   "source": [
    "T = Ki*G/(1 + Ki*G*H)\n",
    "t_i, x_i = control.step_response(sys = T)\n",
    "plt.plot(t_i, x_i, label = 'Inner loop')"
   ]
  },
  {
   "cell_type": "markdown",
   "id": "a88e6038-f42e-4b81-8670-84f32813014e",
   "metadata": {
    "jp-MarkdownHeadingCollapsed": true,
    "tags": []
   },
   "source": [
    "<h5>Part b: Outer loop gain</h5>"
   ]
  },
  {
   "cell_type": "code",
   "execution_count": null,
   "id": "cbaa07b2-be9d-48a1-a036-a14c756215c1",
   "metadata": {
    "tags": []
   },
   "outputs": [],
   "source": [
    "OS_o = 10\n",
    "d_o = -np.log(OS_o/100)/np.sqrt(np.pi**2 + (np.log(OS_o/100))**2)"
   ]
  },
  {
   "cell_type": "code",
   "execution_count": null,
   "id": "8603515d-e43a-4418-a2bf-691915906349",
   "metadata": {},
   "outputs": [],
   "source": [
    "G_o = Ki*G/(1 + Ki*G*H)\n",
    "H_o = 1\n",
    "print(f\"Target damping ratio: {d_o}\")\n",
    "rl = control.root_locus(G_o*H_o, grid = True)"
   ]
  },
  {
   "cell_type": "code",
   "execution_count": null,
   "id": "1ca14d7c-e314-40b9-a171-17f0f722ff5e",
   "metadata": {},
   "outputs": [],
   "source": [
    "K = 1.116"
   ]
  },
  {
   "cell_type": "code",
   "execution_count": null,
   "id": "d3cb2fb5-143f-4c39-8e16-416a322a48bc",
   "metadata": {},
   "outputs": [],
   "source": [
    "T = K*G_o/(1 + K*G_o*H_o)\n",
    "t_o, x_o = control.step_response(sys = T)\n",
    "plt.plot(t_o, x_o, label = 'Outer loop')"
   ]
  },
  {
   "cell_type": "code",
   "execution_count": null,
   "id": "f218149d-a1c0-4721-9b36-e216419db771",
   "metadata": {},
   "outputs": [],
   "source": [
    "plt.figure(1)\n",
    "plt.plot(t_i, x_i, label = 'Inner loop')\n",
    "plt.plot(t_o, x_o, label = 'Outer loop')\n",
    "plt.legend()"
   ]
  },
  {
   "cell_type": "markdown",
   "id": "07ac3113-584a-4430-9d2d-aae657fa1989",
   "metadata": {
    "tags": []
   },
   "source": [
    "<h3>Problem 47</h3>"
   ]
  },
  {
   "cell_type": "markdown",
   "id": "f3c71fb8-0058-48c4-af82-a2aea56e9922",
   "metadata": {
    "tags": []
   },
   "source": [
    "<h5>Part a: Uncompensated system</h5>"
   ]
  },
  {
   "cell_type": "code",
   "execution_count": 49,
   "id": "ca63b9fc-ad17-4af7-a024-57610f9cc99c",
   "metadata": {},
   "outputs": [],
   "source": [
    "s = control.tf('s')\n",
    "Gg = 1/(0.2*s + 1)\n",
    "Gt = 1/(0.5*s + 1)\n",
    "Gm = 1/(10*s + 0.8)\n",
    "G = Gg*Gt*Gm\n",
    "H = 1"
   ]
  },
  {
   "cell_type": "code",
   "execution_count": 50,
   "id": "d5636daa-54ba-4123-a9eb-4b0b9c33d607",
   "metadata": {},
   "outputs": [
    {
     "name": "stdout",
     "output_type": "stream",
     "text": [
      "Target damping ratio: 0.7\n"
     ]
    }
   ],
   "source": [
    "d = 0.7\n",
    "print(f\"Target damping ratio: {d}\")\n",
    "rl = control.root_locus(G*H, grid = True)"
   ]
  },
  {
   "cell_type": "code",
   "execution_count": 51,
   "id": "e743ca96-3cd6-4ca2-8f97-1706f172c78d",
   "metadata": {},
   "outputs": [],
   "source": [
    "K = 7.045"
   ]
  },
  {
   "cell_type": "code",
   "execution_count": 52,
   "id": "f96c5b5c-57ad-40c3-a44d-107e0bc77b39",
   "metadata": {},
   "outputs": [
    {
     "data": {
      "text/plain": [
       "[<matplotlib.lines.Line2D at 0x175d219d0a0>]"
      ]
     },
     "execution_count": 52,
     "metadata": {},
     "output_type": "execute_result"
    }
   ],
   "source": [
    "T = K*G/(1 + K*G*H)\n",
    "t_u, x_u = control.step_response(sys = T)\n",
    "plt.plot(t_u, x_u, label = 'Uncompensated System')"
   ]
  },
  {
   "cell_type": "markdown",
   "id": "cb9401cf-ca61-4f5a-8d1a-4e39c6da3ee1",
   "metadata": {
    "tags": []
   },
   "source": [
    "<h5>part b.1: PD design (similar to lead)</h5>"
   ]
  },
  {
   "cell_type": "code",
   "execution_count": 53,
   "id": "664e652f-4bf2-414a-873e-954603ceda23",
   "metadata": {},
   "outputs": [],
   "source": [
    "Ts = 2"
   ]
  },
  {
   "cell_type": "code",
   "execution_count": 54,
   "id": "34ba7c9a-14b1-4f9c-aaec-4664bad427f7",
   "metadata": {},
   "outputs": [
    {
     "name": "stdout",
     "output_type": "stream",
     "text": [
      "Target dominant pole coordinates: -2.0 + 2.040408122440814i\n"
     ]
    }
   ],
   "source": [
    "dwn = 4/Ts\n",
    "wn = dwn/d\n",
    "wd = wn*np.sqrt(1 - d**2)\n",
    "target_real = -dwn\n",
    "target_imag = wd\n",
    "print(f\"Target dominant pole coordinates: {target_real} + {target_imag}i\")"
   ]
  },
  {
   "cell_type": "code",
   "execution_count": 55,
   "id": "ee93c0fa-6429-4ead-a1b6-7cb2103c460c",
   "metadata": {},
   "outputs": [],
   "source": [
    "poles = control.pole(K*G*H)\n",
    "zeros = control.zero(K*G*H)"
   ]
  },
  {
   "cell_type": "code",
   "execution_count": 56,
   "id": "aed5e06a-41bb-4bcb-9710-78aa510d4e86",
   "metadata": {},
   "outputs": [
    {
     "name": "stdout",
     "output_type": "stream",
     "text": [
      "Angle contribution of plant poles and zeros: -257.4796070131212\n"
     ]
    }
   ],
   "source": [
    "angle = 0\n",
    "\n",
    "for pole in poles:\n",
    "    angle += -np.arctan2((target_imag - pole.imag), (target_real - pole.real))\n",
    "          \n",
    "for zero in zeros:\n",
    "    angle += np.arctan2((target_imag - zero.imag), (target_real - zero.real))\n",
    "    \n",
    "print(f\"Angle contribution of plant poles and zeros: {np.rad2deg(angle)}\")"
   ]
  },
  {
   "cell_type": "code",
   "execution_count": 63,
   "id": "8eb2c7eb-a0f1-41a8-9bb4-ed683bca9f01",
   "metadata": {},
   "outputs": [
    {
     "name": "stdout",
     "output_type": "stream",
     "text": [
      "Necessary angle contribution of compensator zero: 77.4796070131212\n"
     ]
    }
   ],
   "source": [
    "angle_zc = -np.pi - angle\n",
    "print(f\"Necessary angle contribution of compensator zero: {np.rad2deg(angle_zc)}\")"
   ]
  },
  {
   "cell_type": "code",
   "execution_count": 64,
   "id": "a9387893-1bc6-405f-9dfe-fcf8095a1f63",
   "metadata": {},
   "outputs": [
    {
     "name": "stdout",
     "output_type": "stream",
     "text": [
      "Feedback compensator zero at: -2.4531095755182553 + 0i\n"
     ]
    }
   ],
   "source": [
    "zc = target_real - target_imag/np.tan(angle_zc)\n",
    "print(f\"Feedback compensator zero at: {zc} + 0i\")"
   ]
  },
  {
   "cell_type": "code",
   "execution_count": 65,
   "id": "8d6c6068-cec1-4711-8fad-680b5a948dd6",
   "metadata": {},
   "outputs": [],
   "source": [
    "G_PD = (s - zc)"
   ]
  },
  {
   "cell_type": "code",
   "execution_count": 66,
   "id": "75bf882a-7f7d-4e82-a519-67983ba5680c",
   "metadata": {},
   "outputs": [
    {
     "name": "stdout",
     "output_type": "stream",
     "text": [
      "Target damping ratio: 0.7\n",
      "Clicked at     -2.008    +2.122j gain      10.29 damp     0.6873\n"
     ]
    },
    {
     "name": "stderr",
     "output_type": "stream",
     "text": [
      "C:\\Users\\jake\\anaconda3\\lib\\site-packages\\control\\rlocus.py:633: UserWarning: marker is redundantly defined by the 'marker' keyword argument and the fmt string \"k.\" (-> marker='.'). The keyword argument will take precedence.\n",
      "  ax_rlocus.plot(s.real, s.imag, 'k.', marker='s', markersize=8,\n"
     ]
    },
    {
     "name": "stdout",
     "output_type": "stream",
     "text": [
      "Clicked at     -2.007    +2.071j gain      10.07 damp      0.696\n"
     ]
    },
    {
     "name": "stderr",
     "output_type": "stream",
     "text": [
      "C:\\Users\\jake\\anaconda3\\lib\\site-packages\\control\\rlocus.py:633: UserWarning: marker is redundantly defined by the 'marker' keyword argument and the fmt string \"k.\" (-> marker='.'). The keyword argument will take precedence.\n",
      "  ax_rlocus.plot(s.real, s.imag, 'k.', marker='s', markersize=8,\n"
     ]
    },
    {
     "name": "stdout",
     "output_type": "stream",
     "text": [
      "Clicked at     -2.007    +2.067j gain      10.05 damp     0.6967\n",
      "Clicked at     -2.008    +2.069j gain      10.06 damp     0.6964\n",
      "Clicked at     -2.009    +2.071j gain      10.07 damp     0.6962\n",
      "Clicked at     -2.006    +2.058j gain      10.01 damp      0.698\n",
      "Clicked at     -2.005    +2.058j gain      10.01 damp     0.6979\n",
      "Clicked at     -2.004    +2.055j gain      9.993 damp     0.6982\n",
      "Clicked at     -2.003    +2.055j gain       9.99 damp     0.6981\n",
      "Clicked at     -1.999    +2.039j gain      9.918 damp     0.7001\n",
      "Clicked at     -1.999    +2.038j gain      9.914 damp     0.7003\n"
     ]
    },
    {
     "name": "stderr",
     "output_type": "stream",
     "text": [
      "C:\\Users\\jake\\anaconda3\\lib\\site-packages\\control\\rlocus.py:633: UserWarning: marker is redundantly defined by the 'marker' keyword argument and the fmt string \"k.\" (-> marker='.'). The keyword argument will take precedence.\n",
      "  ax_rlocus.plot(s.real, s.imag, 'k.', marker='s', markersize=8,\n"
     ]
    },
    {
     "name": "stdout",
     "output_type": "stream",
     "text": [
      "Clicked at     -1.999    +2.039j gain      9.914 damp     0.7002\n",
      "Clicked at         -2    +2.039j gain      9.916 damp     0.7002\n",
      "Clicked at         -2    +2.039j gain      9.916 damp     0.7002\n",
      "Clicked at         -2    +2.039j gain      9.918 damp     0.7002\n",
      "Clicked at         -2     +2.04j gain      9.921 damp     0.7001\n",
      "Clicked at         -2     +2.04j gain      9.922 damp        0.7\n"
     ]
    }
   ],
   "source": [
    "print(f\"Target damping ratio: {d}\")\n",
    "rl = control.root_locus(G*G_PD*H, grid = True)"
   ]
  },
  {
   "cell_type": "code",
   "execution_count": 67,
   "id": "f9b96e12-1137-47d1-812a-197bade94999",
   "metadata": {},
   "outputs": [],
   "source": [
    "K = 9.922"
   ]
  },
  {
   "cell_type": "code",
   "execution_count": 68,
   "id": "24d34594-8bd5-4716-a0ee-cc1210b3dbbc",
   "metadata": {},
   "outputs": [
    {
     "data": {
      "text/plain": [
       "[<matplotlib.lines.Line2D at 0x175d2f10fd0>]"
      ]
     },
     "execution_count": 68,
     "metadata": {},
     "output_type": "execute_result"
    }
   ],
   "source": [
    "T = K*G*G_PD/(1 + K*G*G_PD*H)\n",
    "t_u, x_u = control.step_response(sys = T)\n",
    "plt.plot(t_u, x_u, label = 'Uncompensated System')"
   ]
  },
  {
   "cell_type": "markdown",
   "id": "e628685f-d7f6-45a6-9c36-76be9614da24",
   "metadata": {
    "jp-MarkdownHeadingCollapsed": true,
    "tags": []
   },
   "source": [
    "<h5>part b.2: PI design (similar to lag)</h5>"
   ]
  },
  {
   "cell_type": "code",
   "execution_count": 73,
   "id": "7dec3eed-b1e8-4c1f-b733-1794ef23de97",
   "metadata": {},
   "outputs": [],
   "source": [
    "G_PI = (s + 0.01)/s"
   ]
  },
  {
   "cell_type": "code",
   "execution_count": 74,
   "id": "a6f2e47a-de70-41ce-8bd9-113fc14a96fc",
   "metadata": {},
   "outputs": [
    {
     "name": "stdout",
     "output_type": "stream",
     "text": [
      "Target damping ratio: 0.7\n",
      "Clicked at     -2.174    +3.362j gain      17.38 damp     0.5431\n"
     ]
    },
    {
     "name": "stderr",
     "output_type": "stream",
     "text": [
      "C:\\Users\\jake\\anaconda3\\lib\\site-packages\\control\\rlocus.py:633: UserWarning: marker is redundantly defined by the 'marker' keyword argument and the fmt string \"k.\" (-> marker='.'). The keyword argument will take precedence.\n",
      "  ax_rlocus.plot(s.real, s.imag, 'k.', marker='s', markersize=8,\n"
     ]
    },
    {
     "name": "stdout",
     "output_type": "stream",
     "text": [
      "Clicked at     -2.152    +2.484j gain      12.18 damp     0.6549\n",
      "Clicked at     -2.084    +2.448j gain      11.94 damp     0.6481\n",
      "Clicked at     -2.133    +2.896j gain      14.42 damp      0.593\n",
      "Clicked at     -2.035    +2.287j gain      11.11 damp     0.6647\n",
      "Clicked at     -1.963    +2.036j gain      9.883 damp     0.6942\n",
      "Clicked at     -1.958    +1.919j gain      9.378 damp     0.7142\n"
     ]
    },
    {
     "name": "stderr",
     "output_type": "stream",
     "text": [
      "C:\\Users\\jake\\anaconda3\\lib\\site-packages\\control\\rlocus.py:633: UserWarning: marker is redundantly defined by the 'marker' keyword argument and the fmt string \"k.\" (-> marker='.'). The keyword argument will take precedence.\n",
      "  ax_rlocus.plot(s.real, s.imag, 'k.', marker='s', markersize=8,\n"
     ]
    },
    {
     "name": "stdout",
     "output_type": "stream",
     "text": [
      "Clicked at      -1.96    +1.929j gain      9.421 damp     0.7127\n",
      "Clicked at     -1.962    +1.933j gain       9.44 damp     0.7124\n",
      "Clicked at     -1.965     +1.94j gain      9.477 damp     0.7116\n",
      "Clicked at     -1.969    +1.956j gain      9.549 damp     0.7094\n",
      "Clicked at     -1.973    +1.968j gain      9.605 damp     0.7079\n",
      "Clicked at     -1.978    +1.982j gain       9.67 damp     0.7064\n",
      "Clicked at     -1.984        +2j gain      9.755 damp     0.7042\n",
      "Clicked at      -1.99    +2.028j gain      9.884 damp     0.7003\n",
      "Clicked at      -1.99    +2.025j gain      9.867 damp      0.701\n"
     ]
    },
    {
     "name": "stderr",
     "output_type": "stream",
     "text": [
      "C:\\Users\\jake\\anaconda3\\lib\\site-packages\\control\\rlocus.py:633: UserWarning: marker is redundantly defined by the 'marker' keyword argument and the fmt string \"k.\" (-> marker='.'). The keyword argument will take precedence.\n",
      "  ax_rlocus.plot(s.real, s.imag, 'k.', marker='s', markersize=8,\n"
     ]
    },
    {
     "name": "stdout",
     "output_type": "stream",
     "text": [
      "Clicked at      -1.99    +2.025j gain      9.869 damp     0.7009\n",
      "Clicked at      -1.99    +2.025j gain       9.87 damp     0.7009\n",
      "Clicked at      -1.99    +2.025j gain      9.871 damp     0.7009\n",
      "Clicked at     -1.991    +2.027j gain      9.879 damp     0.7006\n",
      "Clicked at     -1.991    +2.029j gain      9.885 damp     0.7005\n",
      "Clicked at     -1.991    +2.029j gain      9.889 damp     0.7004\n",
      "Clicked at     -1.992    +2.031j gain      9.896 damp     0.7001\n",
      "Clicked at     -1.992    +2.032j gain      9.899 damp     0.7001\n"
     ]
    },
    {
     "name": "stderr",
     "output_type": "stream",
     "text": [
      "C:\\Users\\jake\\anaconda3\\lib\\site-packages\\control\\rlocus.py:633: UserWarning: marker is redundantly defined by the 'marker' keyword argument and the fmt string \"k.\" (-> marker='.'). The keyword argument will take precedence.\n",
      "  ax_rlocus.plot(s.real, s.imag, 'k.', marker='s', markersize=8,\n"
     ]
    },
    {
     "name": "stdout",
     "output_type": "stream",
     "text": [
      "Clicked at     -1.992    +2.032j gain      9.901 damp        0.7\n"
     ]
    }
   ],
   "source": [
    "print(f\"Target damping ratio: {d}\")\n",
    "rl = control.root_locus(G*G_PD*G_PI*H, grid = True)"
   ]
  },
  {
   "cell_type": "code",
   "execution_count": 75,
   "id": "e97eb753-98c5-4899-b12f-9ff643dbebd1",
   "metadata": {},
   "outputs": [],
   "source": [
    "K = 9.901"
   ]
  },
  {
   "cell_type": "code",
   "execution_count": 76,
   "id": "1714176d-fb3a-4ade-92e3-3112277b725a",
   "metadata": {},
   "outputs": [
    {
     "data": {
      "text/plain": [
       "[<matplotlib.lines.Line2D at 0x175dd35dfa0>]"
      ]
     },
     "execution_count": 76,
     "metadata": {},
     "output_type": "execute_result"
    }
   ],
   "source": [
    "T = K*G*G_PD*G_PI/(1 + K*G*G_PD*G_PI*H)\n",
    "t_u, x_u = control.step_response(sys = T)\n",
    "plt.plot(t_u, x_u, label = 'Uncompensated System')"
   ]
  }
 ],
 "metadata": {
  "kernelspec": {
   "display_name": "Python 3 (ipykernel)",
   "language": "python",
   "name": "python3"
  },
  "language_info": {
   "codemirror_mode": {
    "name": "ipython",
    "version": 3
   },
   "file_extension": ".py",
   "mimetype": "text/x-python",
   "name": "python",
   "nbconvert_exporter": "python",
   "pygments_lexer": "ipython3",
   "version": "3.9.7"
  }
 },
 "nbformat": 4,
 "nbformat_minor": 5
}
